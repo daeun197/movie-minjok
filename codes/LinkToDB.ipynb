{
 "cells": [
  {
   "cell_type": "code",
   "execution_count": 1,
   "metadata": {},
   "outputs": [
    {
     "name": "stdout",
     "output_type": "stream",
     "text": [
      "Collecting PyMySql\n",
      "  Downloading PyMySQL-0.10.0-py2.py3-none-any.whl (47 kB)\n",
      "\u001b[K     |████████████████████████████████| 47 kB 500 kB/s eta 0:00:01\n",
      "\u001b[?25hInstalling collected packages: PyMySql\n",
      "Successfully installed PyMySql-0.10.0\n"
     ]
    }
   ],
   "source": [
    "!pip install PyMySql"
   ]
  },
  {
   "cell_type": "code",
   "execution_count": 1,
   "metadata": {},
   "outputs": [],
   "source": [
    "import pymysql as pms"
   ]
  },
  {
   "cell_type": "code",
   "execution_count": 36,
   "metadata": {},
   "outputs": [],
   "source": [
    "conn = pms.connect(host = \"localhost\",\n",
    "                  user = \"root\",\n",
    "                  password = 'midaniya26',\n",
    "                  db = \"movie\",\n",
    "                  charset = 'utf8')"
   ]
  },
  {
   "cell_type": "code",
   "execution_count": 37,
   "metadata": {},
   "outputs": [],
   "source": [
    "curs = conn.cursor()"
   ]
  },
  {
   "cell_type": "code",
   "execution_count": 83,
   "metadata": {},
   "outputs": [
    {
     "data": {
      "text/plain": [
       "0"
      ]
     },
     "execution_count": 83,
     "metadata": {},
     "output_type": "execute_result"
    }
   ],
   "source": [
    "curs.execute('CREATE TABLE theater(brand_name VARCHAR(20) NOT NULL,PRIMARY KEY(brand_name));')"
   ]
  },
  {
   "cell_type": "code",
   "execution_count": 84,
   "metadata": {},
   "outputs": [
    {
     "data": {
      "text/plain": [
       "1"
      ]
     },
     "execution_count": 84,
     "metadata": {},
     "output_type": "execute_result"
    }
   ],
   "source": [
    "curs.execute(\"INSERT INTO theater VALUES('CGV');\")\n",
    "curs.execute(\"INSERT INTO theater VALUES('메가박스');\")\n",
    "curs.execute(\"INSERT INTO theater VALUES('롯데시네마');\")"
   ]
  },
  {
   "cell_type": "code",
   "execution_count": null,
   "metadata": {},
   "outputs": [],
   "source": []
  },
  {
   "cell_type": "code",
   "execution_count": 86,
   "metadata": {},
   "outputs": [
    {
     "data": {
      "text/plain": [
       "0"
      ]
     },
     "execution_count": 86,
     "metadata": {},
     "output_type": "execute_result"
    }
   ],
   "source": [
    "# 도시 table\n",
    "sql = 'CREATE TABLE city(city_id INT NOT NULL AUTO_INCREMENT, city_name varchar(20),PRIMARY KEY(city_id));'\n",
    "curs.execute(sql)"
   ]
  },
  {
   "cell_type": "code",
   "execution_count": 88,
   "metadata": {},
   "outputs": [
    {
     "data": {
      "text/plain": [
       "0"
      ]
     },
     "execution_count": 88,
     "metadata": {},
     "output_type": "execute_result"
    }
   ],
   "source": [
    "# 지점 table\n",
    "sql = 'CREATE TABLE branch(branch_id VARCHAR(30) NOT NULL, branch_name VARCHAR(10), city_id INT, brand_name varchar(20),PRIMARY KEY(branch_id),FOREIGN KEY(city_id) REFERENCES city(city_id),FOREIGN KEY(brand_name) REFERENCES theater(brand_name));'\n",
    "curs.execute(sql)"
   ]
  },
  {
   "cell_type": "code",
   "execution_count": 45,
   "metadata": {},
   "outputs": [
    {
     "data": {
      "text/plain": [
       "0"
      ]
     },
     "execution_count": 45,
     "metadata": {},
     "output_type": "execute_result"
    }
   ],
   "source": [
    "# 영화정보테이블 생성\n",
    "## id는 숫자 title 제목\n",
    "curs.execute(\"CREATE TABLE movie(movie_id INT NOT NULL AUTO_INCREMENT, title VARCHAR(30), info TEXT,age_grade INT, genre VARCHAR(10), running_time INT,director VARCHAR(20), cast VARCHAR(40), company VARCHAR(20),PRIMARY KEY(movie_id));\")"
   ]
  },
  {
   "cell_type": "code",
   "execution_count": 40,
   "metadata": {},
   "outputs": [
    {
     "data": {
      "text/plain": [
       "1"
      ]
     },
     "execution_count": 40,
     "metadata": {},
     "output_type": "execute_result"
    }
   ],
   "source": [
    "curs.execute(\"INSERT INTO movie(title) VALUES('노트북(notebook)');\")\n",
    "curs.execute(\"INSERT INTO movie(title) VALUES('너의 이름은');\")\n",
    "curs.execute(\"INSERT INTO movie(title) VALUES('이프 온리(If only)');\")"
   ]
  },
  {
   "cell_type": "code",
   "execution_count": 89,
   "metadata": {},
   "outputs": [
    {
     "data": {
      "text/plain": [
       "0"
      ]
     },
     "execution_count": 89,
     "metadata": {},
     "output_type": "execute_result"
    }
   ],
   "source": [
    "# 상영관테이블 생성\n",
    "## 상영관에 영화 정보 필요\n",
    "sql = \" CREATE TABLE sangyounggwan(sang_id INT NOT NULL AUTO_INCREMENT, sang_name VARCHAR(20), type VARCHAR(15), num_of_seats INT, branch_id VARCHAR(30),PRIMARY KEY(sang_id),FOREIGN KEY(branch_id) REFERENCES branch(branch_id));\"\n",
    "curs.execute(sql)"
   ]
  },
  {
   "cell_type": "code",
   "execution_count": 90,
   "metadata": {},
   "outputs": [
    {
     "data": {
      "text/plain": [
       "0"
      ]
     },
     "execution_count": 90,
     "metadata": {},
     "output_type": "execute_result"
    }
   ],
   "source": [
    "# 시간표테이블 생성 \n",
    "## 시간 (잔여)좌석수\n",
    "curs.execute(\"CREATE TABLE time_table(time_table_id INT NOT NULL AUTO_INCREMENT, date_time DATETIME,left_seats INT,sang_id INT,movie_id INT,PRIMARY KEY(time_table_id),FOREIGN KEY(movie_id) REFERENCES movie(movie_id), FOREIGN KEY(sang_id) REFERENCES sangyounggwan(sang_id));\")"
   ]
  },
  {
   "cell_type": "code",
   "execution_count": 91,
   "metadata": {},
   "outputs": [
    {
     "data": {
      "text/plain": [
       "6"
      ]
     },
     "execution_count": 91,
     "metadata": {},
     "output_type": "execute_result"
    }
   ],
   "source": [
    "curs.execute(\"show tables;\")"
   ]
  },
  {
   "cell_type": "markdown",
   "metadata": {},
   "source": [
    "mysql> show tables;\n",
    "\n",
    "+-----------------+\n",
    "\n",
    "| Tables_in_movie |\n",
    "\n",
    "+-----------------+\n",
    "\n",
    "| branch          |\n",
    "\n",
    "| city            |\n",
    "\n",
    "| movie           |\n",
    "\n",
    "| sangyounggwan   |\n",
    "\n",
    "| theater         |\n",
    "\n",
    "| time_table      |\n",
    "\n",
    "+-----------------+\n",
    "\n",
    "6 rows in set (0.00 sec)"
   ]
  },
  {
   "cell_type": "code",
   "execution_count": 35,
   "metadata": {
    "collapsed": true,
    "jupyter": {
     "outputs_hidden": true
    }
   },
   "outputs": [
    {
     "ename": "Error",
     "evalue": "Already closed",
     "output_type": "error",
     "traceback": [
      "\u001b[0;31m---------------------------------------------------------------------------\u001b[0m",
      "\u001b[0;31mError\u001b[0m                                     Traceback (most recent call last)",
      "\u001b[0;32m<ipython-input-35-8dd0cd799055>\u001b[0m in \u001b[0;36m<module>\u001b[0;34m\u001b[0m\n\u001b[0;32m----> 1\u001b[0;31m \u001b[0mconn\u001b[0m\u001b[0;34m.\u001b[0m\u001b[0mclose\u001b[0m\u001b[0;34m(\u001b[0m\u001b[0;34m)\u001b[0m\u001b[0;34m\u001b[0m\u001b[0;34m\u001b[0m\u001b[0m\n\u001b[0m",
      "\u001b[0;32m/opt/anaconda3/lib/python3.7/site-packages/pymysql/connections.py\u001b[0m in \u001b[0;36mclose\u001b[0;34m(self)\u001b[0m\n\u001b[1;32m    354\u001b[0m         \"\"\"\n\u001b[1;32m    355\u001b[0m         \u001b[0;32mif\u001b[0m \u001b[0mself\u001b[0m\u001b[0;34m.\u001b[0m\u001b[0m_closed\u001b[0m\u001b[0;34m:\u001b[0m\u001b[0;34m\u001b[0m\u001b[0;34m\u001b[0m\u001b[0m\n\u001b[0;32m--> 356\u001b[0;31m             \u001b[0;32mraise\u001b[0m \u001b[0merr\u001b[0m\u001b[0;34m.\u001b[0m\u001b[0mError\u001b[0m\u001b[0;34m(\u001b[0m\u001b[0;34m\"Already closed\"\u001b[0m\u001b[0;34m)\u001b[0m\u001b[0;34m\u001b[0m\u001b[0;34m\u001b[0m\u001b[0m\n\u001b[0m\u001b[1;32m    357\u001b[0m         \u001b[0mself\u001b[0m\u001b[0;34m.\u001b[0m\u001b[0m_closed\u001b[0m \u001b[0;34m=\u001b[0m \u001b[0;32mTrue\u001b[0m\u001b[0;34m\u001b[0m\u001b[0;34m\u001b[0m\u001b[0m\n\u001b[1;32m    358\u001b[0m         \u001b[0;32mif\u001b[0m \u001b[0mself\u001b[0m\u001b[0;34m.\u001b[0m\u001b[0m_sock\u001b[0m \u001b[0;32mis\u001b[0m \u001b[0;32mNone\u001b[0m\u001b[0;34m:\u001b[0m\u001b[0;34m\u001b[0m\u001b[0;34m\u001b[0m\u001b[0m\n",
      "\u001b[0;31mError\u001b[0m: Already closed"
     ]
    }
   ],
   "source": [
    "conn.close()"
   ]
  },
  {
   "cell_type": "code",
   "execution_count": 59,
   "metadata": {},
   "outputs": [],
   "source": [
    "import os\n",
    "os.chdir('city')"
   ]
  },
  {
   "cell_type": "code",
   "execution_count": 60,
   "metadata": {},
   "outputs": [],
   "source": [
    "import pandas as pd"
   ]
  },
  {
   "cell_type": "code",
   "execution_count": 109,
   "metadata": {},
   "outputs": [],
   "source": [
    "s = pd.read_csv('seoul.csv')\n",
    "gg= pd.read_csv('gyeonggi.csv')\n",
    "ic = pd.read_csv('incheon.csv')\n",
    "gw = pd.read_csv('gangwon.csv')\n",
    "cds = pd.read_csv('chung_dae_se.csv')\n",
    "dg = pd.read_csv('daegu_gyeongbuk.csv')\n",
    "bu = pd.read_csv('busan_ulsan.csv')\n",
    "gj = pd.read_csv('gwangju_jeolla.csv')\n",
    "j = pd.read_csv('jeju.csv')"
   ]
  },
  {
   "cell_type": "code",
   "execution_count": 72,
   "metadata": {},
   "outputs": [],
   "source": [
    "citys = ['서울', '경기', '인천', '강원', '충청/대구/세종', '대구/경상', '부산/울산', '광주/전라', '제주']"
   ]
  },
  {
   "cell_type": "markdown",
   "metadata": {},
   "source": [
    "### 0. 도시 입력(반복문)\n",
    "- 에러\n",
    "   - 반복문 insert가 터미널상의 mysql에서 보이지 x"
   ]
  },
  {
   "cell_type": "code",
   "execution_count": 102,
   "metadata": {},
   "outputs": [
    {
     "data": {
      "text/plain": [
       "1"
      ]
     },
     "execution_count": 102,
     "metadata": {},
     "output_type": "execute_result"
    }
   ],
   "source": [
    "curs.execute(\"INSERT INTO city(city_name) VALUES('서울');\")"
   ]
  },
  {
   "cell_type": "code",
   "execution_count": 103,
   "metadata": {},
   "outputs": [
    {
     "name": "stdout",
     "output_type": "stream",
     "text": [
      "INSERT INTO city(city_name) VALUES('경기');\n",
      "INSERT INTO city(city_name) VALUES('인천');\n",
      "INSERT INTO city(city_name) VALUES('강원');\n",
      "INSERT INTO city(city_name) VALUES('충청/대구/세종');\n",
      "INSERT INTO city(city_name) VALUES('대구/경상');\n",
      "INSERT INTO city(city_name) VALUES('부산/울산');\n",
      "INSERT INTO city(city_name) VALUES('광주/전라');\n",
      "INSERT INTO city(city_name) VALUES('제주');\n"
     ]
    }
   ],
   "source": [
    "for i in range(1, len(citys)):\n",
    "    sql = \"INSERT INTO city(city_name) VALUES('\"+ citys[i] + \"');\"\n",
    "    print(sql)\n",
    "    curs.execute(sql)"
   ]
  },
  {
   "cell_type": "code",
   "execution_count": 104,
   "metadata": {},
   "outputs": [
    {
     "data": {
      "text/plain": [
       "25"
      ]
     },
     "execution_count": 104,
     "metadata": {},
     "output_type": "execute_result"
    }
   ],
   "source": [
    "curs.execute('select * from city;')"
   ]
  },
  {
   "cell_type": "markdown",
   "metadata": {},
   "source": [
    "### 1. 지점 입력(반복문)\n",
    "- branch(branch_id VARCHAR(30) NOT NULL, branch_name VARCHAR(10), city_id INT, brand_name varchar(20))\n",
    "\n",
    "\n",
    "- 에러\n",
    "    - 서울, 인천은 왜인지 입력 x\n",
    "    - 부산: 이름이 너무 긺(varchar 늘려야? 이름 바꿔야?)\n",
    "    - 제주: 중복된 id 존재"
   ]
  },
  {
   "cell_type": "code",
   "execution_count": 65,
   "metadata": {},
   "outputs": [],
   "source": [
    "total = pd.concat([s,gg,i,gw, dg,cds,gj,bu,j])"
   ]
  },
  {
   "cell_type": "code",
   "execution_count": 113,
   "metadata": {
    "collapsed": true,
    "jupyter": {
     "outputs_hidden": true
    }
   },
   "outputs": [
    {
     "name": "stdout",
     "output_type": "stream",
     "text": [
      "INSERT INTO branch VALUES( '0056' , '강남', 1, 'cgv');\n"
     ]
    },
    {
     "ename": "IntegrityError",
     "evalue": "(1452, 'Cannot add or update a child row: a foreign key constraint fails (`movie`.`branch`, CONSTRAINT `branch_ibfk_1` FOREIGN KEY (`city_id`) REFERENCES `city` (`city_id`))')",
     "output_type": "error",
     "traceback": [
      "\u001b[0;31m---------------------------------------------------------------------------\u001b[0m",
      "\u001b[0;31mIntegrityError\u001b[0m                            Traceback (most recent call last)",
      "\u001b[0;32m<ipython-input-113-0d8443b66b77>\u001b[0m in \u001b[0;36m<module>\u001b[0;34m\u001b[0m\n\u001b[1;32m      9\u001b[0m     \u001b[0msql\u001b[0m \u001b[0;34m=\u001b[0m \u001b[0;34m\"INSERT INTO branch VALUES( '\"\u001b[0m \u001b[0;34m+\u001b[0m \u001b[0mids\u001b[0m \u001b[0;34m+\u001b[0m \u001b[0;34m\"' , '\"\u001b[0m \u001b[0;34m+\u001b[0m \u001b[0mname\u001b[0m \u001b[0;34m+\u001b[0m \u001b[0;34m\"', \"\u001b[0m \u001b[0;34m+\u001b[0m \u001b[0;34m'1'\u001b[0m \u001b[0;34m+\u001b[0m \u001b[0;34m\", '\"\u001b[0m  \u001b[0;34m+\u001b[0m\u001b[0mbrand\u001b[0m\u001b[0;34m+\u001b[0m \u001b[0;34m\"');\"\u001b[0m\u001b[0;34m\u001b[0m\u001b[0;34m\u001b[0m\u001b[0m\n\u001b[1;32m     10\u001b[0m     \u001b[0mprint\u001b[0m\u001b[0;34m(\u001b[0m\u001b[0msql\u001b[0m\u001b[0;34m)\u001b[0m\u001b[0;34m\u001b[0m\u001b[0;34m\u001b[0m\u001b[0m\n\u001b[0;32m---> 11\u001b[0;31m     \u001b[0mcurs\u001b[0m\u001b[0;34m.\u001b[0m\u001b[0mexecute\u001b[0m\u001b[0;34m(\u001b[0m\u001b[0msql\u001b[0m\u001b[0;34m)\u001b[0m\u001b[0;34m\u001b[0m\u001b[0;34m\u001b[0m\u001b[0m\n\u001b[0m",
      "\u001b[0;32m/opt/anaconda3/lib/python3.7/site-packages/pymysql/cursors.py\u001b[0m in \u001b[0;36mexecute\u001b[0;34m(self, query, args)\u001b[0m\n\u001b[1;32m    161\u001b[0m         \u001b[0mquery\u001b[0m \u001b[0;34m=\u001b[0m \u001b[0mself\u001b[0m\u001b[0;34m.\u001b[0m\u001b[0mmogrify\u001b[0m\u001b[0;34m(\u001b[0m\u001b[0mquery\u001b[0m\u001b[0;34m,\u001b[0m \u001b[0margs\u001b[0m\u001b[0;34m)\u001b[0m\u001b[0;34m\u001b[0m\u001b[0;34m\u001b[0m\u001b[0m\n\u001b[1;32m    162\u001b[0m \u001b[0;34m\u001b[0m\u001b[0m\n\u001b[0;32m--> 163\u001b[0;31m         \u001b[0mresult\u001b[0m \u001b[0;34m=\u001b[0m \u001b[0mself\u001b[0m\u001b[0;34m.\u001b[0m\u001b[0m_query\u001b[0m\u001b[0;34m(\u001b[0m\u001b[0mquery\u001b[0m\u001b[0;34m)\u001b[0m\u001b[0;34m\u001b[0m\u001b[0;34m\u001b[0m\u001b[0m\n\u001b[0m\u001b[1;32m    164\u001b[0m         \u001b[0mself\u001b[0m\u001b[0;34m.\u001b[0m\u001b[0m_executed\u001b[0m \u001b[0;34m=\u001b[0m \u001b[0mquery\u001b[0m\u001b[0;34m\u001b[0m\u001b[0;34m\u001b[0m\u001b[0m\n\u001b[1;32m    165\u001b[0m         \u001b[0;32mreturn\u001b[0m \u001b[0mresult\u001b[0m\u001b[0;34m\u001b[0m\u001b[0;34m\u001b[0m\u001b[0m\n",
      "\u001b[0;32m/opt/anaconda3/lib/python3.7/site-packages/pymysql/cursors.py\u001b[0m in \u001b[0;36m_query\u001b[0;34m(self, q)\u001b[0m\n\u001b[1;32m    319\u001b[0m         \u001b[0mself\u001b[0m\u001b[0;34m.\u001b[0m\u001b[0m_last_executed\u001b[0m \u001b[0;34m=\u001b[0m \u001b[0mq\u001b[0m\u001b[0;34m\u001b[0m\u001b[0;34m\u001b[0m\u001b[0m\n\u001b[1;32m    320\u001b[0m         \u001b[0mself\u001b[0m\u001b[0;34m.\u001b[0m\u001b[0m_clear_result\u001b[0m\u001b[0;34m(\u001b[0m\u001b[0;34m)\u001b[0m\u001b[0;34m\u001b[0m\u001b[0;34m\u001b[0m\u001b[0m\n\u001b[0;32m--> 321\u001b[0;31m         \u001b[0mconn\u001b[0m\u001b[0;34m.\u001b[0m\u001b[0mquery\u001b[0m\u001b[0;34m(\u001b[0m\u001b[0mq\u001b[0m\u001b[0;34m)\u001b[0m\u001b[0;34m\u001b[0m\u001b[0;34m\u001b[0m\u001b[0m\n\u001b[0m\u001b[1;32m    322\u001b[0m         \u001b[0mself\u001b[0m\u001b[0;34m.\u001b[0m\u001b[0m_do_get_result\u001b[0m\u001b[0;34m(\u001b[0m\u001b[0;34m)\u001b[0m\u001b[0;34m\u001b[0m\u001b[0;34m\u001b[0m\u001b[0m\n\u001b[1;32m    323\u001b[0m         \u001b[0;32mreturn\u001b[0m \u001b[0mself\u001b[0m\u001b[0;34m.\u001b[0m\u001b[0mrowcount\u001b[0m\u001b[0;34m\u001b[0m\u001b[0;34m\u001b[0m\u001b[0m\n",
      "\u001b[0;32m/opt/anaconda3/lib/python3.7/site-packages/pymysql/connections.py\u001b[0m in \u001b[0;36mquery\u001b[0;34m(self, sql, unbuffered)\u001b[0m\n\u001b[1;32m    503\u001b[0m                 \u001b[0msql\u001b[0m \u001b[0;34m=\u001b[0m \u001b[0msql\u001b[0m\u001b[0;34m.\u001b[0m\u001b[0mencode\u001b[0m\u001b[0;34m(\u001b[0m\u001b[0mself\u001b[0m\u001b[0;34m.\u001b[0m\u001b[0mencoding\u001b[0m\u001b[0;34m,\u001b[0m \u001b[0;34m'surrogateescape'\u001b[0m\u001b[0;34m)\u001b[0m\u001b[0;34m\u001b[0m\u001b[0;34m\u001b[0m\u001b[0m\n\u001b[1;32m    504\u001b[0m         \u001b[0mself\u001b[0m\u001b[0;34m.\u001b[0m\u001b[0m_execute_command\u001b[0m\u001b[0;34m(\u001b[0m\u001b[0mCOMMAND\u001b[0m\u001b[0;34m.\u001b[0m\u001b[0mCOM_QUERY\u001b[0m\u001b[0;34m,\u001b[0m \u001b[0msql\u001b[0m\u001b[0;34m)\u001b[0m\u001b[0;34m\u001b[0m\u001b[0;34m\u001b[0m\u001b[0m\n\u001b[0;32m--> 505\u001b[0;31m         \u001b[0mself\u001b[0m\u001b[0;34m.\u001b[0m\u001b[0m_affected_rows\u001b[0m \u001b[0;34m=\u001b[0m \u001b[0mself\u001b[0m\u001b[0;34m.\u001b[0m\u001b[0m_read_query_result\u001b[0m\u001b[0;34m(\u001b[0m\u001b[0munbuffered\u001b[0m\u001b[0;34m=\u001b[0m\u001b[0munbuffered\u001b[0m\u001b[0;34m)\u001b[0m\u001b[0;34m\u001b[0m\u001b[0;34m\u001b[0m\u001b[0m\n\u001b[0m\u001b[1;32m    506\u001b[0m         \u001b[0;32mreturn\u001b[0m \u001b[0mself\u001b[0m\u001b[0;34m.\u001b[0m\u001b[0m_affected_rows\u001b[0m\u001b[0;34m\u001b[0m\u001b[0;34m\u001b[0m\u001b[0m\n\u001b[1;32m    507\u001b[0m \u001b[0;34m\u001b[0m\u001b[0m\n",
      "\u001b[0;32m/opt/anaconda3/lib/python3.7/site-packages/pymysql/connections.py\u001b[0m in \u001b[0;36m_read_query_result\u001b[0;34m(self, unbuffered)\u001b[0m\n\u001b[1;32m    722\u001b[0m         \u001b[0;32melse\u001b[0m\u001b[0;34m:\u001b[0m\u001b[0;34m\u001b[0m\u001b[0;34m\u001b[0m\u001b[0m\n\u001b[1;32m    723\u001b[0m             \u001b[0mresult\u001b[0m \u001b[0;34m=\u001b[0m \u001b[0mMySQLResult\u001b[0m\u001b[0;34m(\u001b[0m\u001b[0mself\u001b[0m\u001b[0;34m)\u001b[0m\u001b[0;34m\u001b[0m\u001b[0;34m\u001b[0m\u001b[0m\n\u001b[0;32m--> 724\u001b[0;31m             \u001b[0mresult\u001b[0m\u001b[0;34m.\u001b[0m\u001b[0mread\u001b[0m\u001b[0;34m(\u001b[0m\u001b[0;34m)\u001b[0m\u001b[0;34m\u001b[0m\u001b[0;34m\u001b[0m\u001b[0m\n\u001b[0m\u001b[1;32m    725\u001b[0m         \u001b[0mself\u001b[0m\u001b[0;34m.\u001b[0m\u001b[0m_result\u001b[0m \u001b[0;34m=\u001b[0m \u001b[0mresult\u001b[0m\u001b[0;34m\u001b[0m\u001b[0;34m\u001b[0m\u001b[0m\n\u001b[1;32m    726\u001b[0m         \u001b[0;32mif\u001b[0m \u001b[0mresult\u001b[0m\u001b[0;34m.\u001b[0m\u001b[0mserver_status\u001b[0m \u001b[0;32mis\u001b[0m \u001b[0;32mnot\u001b[0m \u001b[0;32mNone\u001b[0m\u001b[0;34m:\u001b[0m\u001b[0;34m\u001b[0m\u001b[0;34m\u001b[0m\u001b[0m\n",
      "\u001b[0;32m/opt/anaconda3/lib/python3.7/site-packages/pymysql/connections.py\u001b[0m in \u001b[0;36mread\u001b[0;34m(self)\u001b[0m\n\u001b[1;32m   1067\u001b[0m     \u001b[0;32mdef\u001b[0m \u001b[0mread\u001b[0m\u001b[0;34m(\u001b[0m\u001b[0mself\u001b[0m\u001b[0;34m)\u001b[0m\u001b[0;34m:\u001b[0m\u001b[0;34m\u001b[0m\u001b[0;34m\u001b[0m\u001b[0m\n\u001b[1;32m   1068\u001b[0m         \u001b[0;32mtry\u001b[0m\u001b[0;34m:\u001b[0m\u001b[0;34m\u001b[0m\u001b[0;34m\u001b[0m\u001b[0m\n\u001b[0;32m-> 1069\u001b[0;31m             \u001b[0mfirst_packet\u001b[0m \u001b[0;34m=\u001b[0m \u001b[0mself\u001b[0m\u001b[0;34m.\u001b[0m\u001b[0mconnection\u001b[0m\u001b[0;34m.\u001b[0m\u001b[0m_read_packet\u001b[0m\u001b[0;34m(\u001b[0m\u001b[0;34m)\u001b[0m\u001b[0;34m\u001b[0m\u001b[0;34m\u001b[0m\u001b[0m\n\u001b[0m\u001b[1;32m   1070\u001b[0m \u001b[0;34m\u001b[0m\u001b[0m\n\u001b[1;32m   1071\u001b[0m             \u001b[0;32mif\u001b[0m \u001b[0mfirst_packet\u001b[0m\u001b[0;34m.\u001b[0m\u001b[0mis_ok_packet\u001b[0m\u001b[0;34m(\u001b[0m\u001b[0;34m)\u001b[0m\u001b[0;34m:\u001b[0m\u001b[0;34m\u001b[0m\u001b[0;34m\u001b[0m\u001b[0m\n",
      "\u001b[0;32m/opt/anaconda3/lib/python3.7/site-packages/pymysql/connections.py\u001b[0m in \u001b[0;36m_read_packet\u001b[0;34m(self, packet_type)\u001b[0m\n\u001b[1;32m    674\u001b[0m             \u001b[0;32mif\u001b[0m \u001b[0mself\u001b[0m\u001b[0;34m.\u001b[0m\u001b[0m_result\u001b[0m \u001b[0;32mis\u001b[0m \u001b[0;32mnot\u001b[0m \u001b[0;32mNone\u001b[0m \u001b[0;32mand\u001b[0m \u001b[0mself\u001b[0m\u001b[0;34m.\u001b[0m\u001b[0m_result\u001b[0m\u001b[0;34m.\u001b[0m\u001b[0munbuffered_active\u001b[0m \u001b[0;32mis\u001b[0m \u001b[0;32mTrue\u001b[0m\u001b[0;34m:\u001b[0m\u001b[0;34m\u001b[0m\u001b[0;34m\u001b[0m\u001b[0m\n\u001b[1;32m    675\u001b[0m                 \u001b[0mself\u001b[0m\u001b[0;34m.\u001b[0m\u001b[0m_result\u001b[0m\u001b[0;34m.\u001b[0m\u001b[0munbuffered_active\u001b[0m \u001b[0;34m=\u001b[0m \u001b[0;32mFalse\u001b[0m\u001b[0;34m\u001b[0m\u001b[0;34m\u001b[0m\u001b[0m\n\u001b[0;32m--> 676\u001b[0;31m             \u001b[0mpacket\u001b[0m\u001b[0;34m.\u001b[0m\u001b[0mraise_for_error\u001b[0m\u001b[0;34m(\u001b[0m\u001b[0;34m)\u001b[0m\u001b[0;34m\u001b[0m\u001b[0;34m\u001b[0m\u001b[0m\n\u001b[0m\u001b[1;32m    677\u001b[0m         \u001b[0;32mreturn\u001b[0m \u001b[0mpacket\u001b[0m\u001b[0;34m\u001b[0m\u001b[0;34m\u001b[0m\u001b[0m\n\u001b[1;32m    678\u001b[0m \u001b[0;34m\u001b[0m\u001b[0m\n",
      "\u001b[0;32m/opt/anaconda3/lib/python3.7/site-packages/pymysql/protocol.py\u001b[0m in \u001b[0;36mraise_for_error\u001b[0;34m(self)\u001b[0m\n\u001b[1;32m    221\u001b[0m         \u001b[0merrno\u001b[0m \u001b[0;34m=\u001b[0m \u001b[0mself\u001b[0m\u001b[0;34m.\u001b[0m\u001b[0mread_uint16\u001b[0m\u001b[0;34m(\u001b[0m\u001b[0;34m)\u001b[0m\u001b[0;34m\u001b[0m\u001b[0;34m\u001b[0m\u001b[0m\n\u001b[1;32m    222\u001b[0m         \u001b[0;32mif\u001b[0m \u001b[0mDEBUG\u001b[0m\u001b[0;34m:\u001b[0m \u001b[0mprint\u001b[0m\u001b[0;34m(\u001b[0m\u001b[0;34m\"errno =\"\u001b[0m\u001b[0;34m,\u001b[0m \u001b[0merrno\u001b[0m\u001b[0;34m)\u001b[0m\u001b[0;34m\u001b[0m\u001b[0;34m\u001b[0m\u001b[0m\n\u001b[0;32m--> 223\u001b[0;31m         \u001b[0merr\u001b[0m\u001b[0;34m.\u001b[0m\u001b[0mraise_mysql_exception\u001b[0m\u001b[0;34m(\u001b[0m\u001b[0mself\u001b[0m\u001b[0;34m.\u001b[0m\u001b[0m_data\u001b[0m\u001b[0;34m)\u001b[0m\u001b[0;34m\u001b[0m\u001b[0;34m\u001b[0m\u001b[0m\n\u001b[0m\u001b[1;32m    224\u001b[0m \u001b[0;34m\u001b[0m\u001b[0m\n\u001b[1;32m    225\u001b[0m     \u001b[0;32mdef\u001b[0m \u001b[0mdump\u001b[0m\u001b[0;34m(\u001b[0m\u001b[0mself\u001b[0m\u001b[0;34m)\u001b[0m\u001b[0;34m:\u001b[0m\u001b[0;34m\u001b[0m\u001b[0;34m\u001b[0m\u001b[0m\n",
      "\u001b[0;32m/opt/anaconda3/lib/python3.7/site-packages/pymysql/err.py\u001b[0m in \u001b[0;36mraise_mysql_exception\u001b[0;34m(data)\u001b[0m\n\u001b[1;32m    105\u001b[0m     \u001b[0;32mif\u001b[0m \u001b[0merrorclass\u001b[0m \u001b[0;32mis\u001b[0m \u001b[0;32mNone\u001b[0m\u001b[0;34m:\u001b[0m\u001b[0;34m\u001b[0m\u001b[0;34m\u001b[0m\u001b[0m\n\u001b[1;32m    106\u001b[0m         \u001b[0merrorclass\u001b[0m \u001b[0;34m=\u001b[0m \u001b[0mInternalError\u001b[0m \u001b[0;32mif\u001b[0m \u001b[0merrno\u001b[0m \u001b[0;34m<\u001b[0m \u001b[0;36m1000\u001b[0m \u001b[0;32melse\u001b[0m \u001b[0mOperationalError\u001b[0m\u001b[0;34m\u001b[0m\u001b[0;34m\u001b[0m\u001b[0m\n\u001b[0;32m--> 107\u001b[0;31m     \u001b[0;32mraise\u001b[0m \u001b[0merrorclass\u001b[0m\u001b[0;34m(\u001b[0m\u001b[0merrno\u001b[0m\u001b[0;34m,\u001b[0m \u001b[0merrval\u001b[0m\u001b[0;34m)\u001b[0m\u001b[0;34m\u001b[0m\u001b[0;34m\u001b[0m\u001b[0m\n\u001b[0m",
      "\u001b[0;31mIntegrityError\u001b[0m: (1452, 'Cannot add or update a child row: a foreign key constraint fails (`movie`.`branch`, CONSTRAINT `branch_ibfk_1` FOREIGN KEY (`city_id`) REFERENCES `city` (`city_id`))')"
     ]
    }
   ],
   "source": [
    "# 서울\n",
    "for i in range(len(s)):\n",
    "    name = list(s['name'])[i]\n",
    "    ids = list(s['id'])[i]\n",
    "    brand = list(s['brand'])[i]\n",
    "    if brand == 'loci': brand = '롯데시네마'\n",
    "    elif brand == 'mega': brand = '메가박스'\n",
    "    else: brand = 'cgv'\n",
    "    sql = \"INSERT INTO branch VALUES( '\" + ids + \"' , '\" + name + \"', \" + '1' + \", '\"  +brand+ \"');\"\n",
    "    print(sql)\n",
    "    curs.execute(sql)"
   ]
  },
  {
   "cell_type": "code",
   "execution_count": 114,
   "metadata": {
    "collapsed": true,
    "jupyter": {
     "outputs_hidden": true
    }
   },
   "outputs": [
    {
     "name": "stdout",
     "output_type": "stream",
     "text": [
      "INSERT INTO branch VALUES( '0260' , '경기광주', 2, 'cgv');\n"
     ]
    },
    {
     "ename": "IntegrityError",
     "evalue": "(1452, 'Cannot add or update a child row: a foreign key constraint fails (`movie`.`branch`, CONSTRAINT `branch_ibfk_1` FOREIGN KEY (`city_id`) REFERENCES `city` (`city_id`))')",
     "output_type": "error",
     "traceback": [
      "\u001b[0;31m---------------------------------------------------------------------------\u001b[0m",
      "\u001b[0;31mIntegrityError\u001b[0m                            Traceback (most recent call last)",
      "\u001b[0;32m<ipython-input-114-88c63524b83d>\u001b[0m in \u001b[0;36m<module>\u001b[0;34m\u001b[0m\n\u001b[1;32m      9\u001b[0m     \u001b[0msql\u001b[0m \u001b[0;34m=\u001b[0m \u001b[0;34m\"INSERT INTO branch VALUES( '\"\u001b[0m \u001b[0;34m+\u001b[0m \u001b[0mids\u001b[0m \u001b[0;34m+\u001b[0m \u001b[0;34m\"' , '\"\u001b[0m \u001b[0;34m+\u001b[0m \u001b[0mname\u001b[0m \u001b[0;34m+\u001b[0m \u001b[0;34m\"', \"\u001b[0m \u001b[0;34m+\u001b[0m \u001b[0;34m'2'\u001b[0m \u001b[0;34m+\u001b[0m \u001b[0;34m\", '\"\u001b[0m  \u001b[0;34m+\u001b[0m\u001b[0mbrand\u001b[0m\u001b[0;34m+\u001b[0m \u001b[0;34m\"');\"\u001b[0m\u001b[0;34m\u001b[0m\u001b[0;34m\u001b[0m\u001b[0m\n\u001b[1;32m     10\u001b[0m     \u001b[0mprint\u001b[0m\u001b[0;34m(\u001b[0m\u001b[0msql\u001b[0m\u001b[0;34m)\u001b[0m\u001b[0;34m\u001b[0m\u001b[0;34m\u001b[0m\u001b[0m\n\u001b[0;32m---> 11\u001b[0;31m     \u001b[0mcurs\u001b[0m\u001b[0;34m.\u001b[0m\u001b[0mexecute\u001b[0m\u001b[0;34m(\u001b[0m\u001b[0msql\u001b[0m\u001b[0;34m)\u001b[0m\u001b[0;34m\u001b[0m\u001b[0;34m\u001b[0m\u001b[0m\n\u001b[0m",
      "\u001b[0;32m/opt/anaconda3/lib/python3.7/site-packages/pymysql/cursors.py\u001b[0m in \u001b[0;36mexecute\u001b[0;34m(self, query, args)\u001b[0m\n\u001b[1;32m    161\u001b[0m         \u001b[0mquery\u001b[0m \u001b[0;34m=\u001b[0m \u001b[0mself\u001b[0m\u001b[0;34m.\u001b[0m\u001b[0mmogrify\u001b[0m\u001b[0;34m(\u001b[0m\u001b[0mquery\u001b[0m\u001b[0;34m,\u001b[0m \u001b[0margs\u001b[0m\u001b[0;34m)\u001b[0m\u001b[0;34m\u001b[0m\u001b[0;34m\u001b[0m\u001b[0m\n\u001b[1;32m    162\u001b[0m \u001b[0;34m\u001b[0m\u001b[0m\n\u001b[0;32m--> 163\u001b[0;31m         \u001b[0mresult\u001b[0m \u001b[0;34m=\u001b[0m \u001b[0mself\u001b[0m\u001b[0;34m.\u001b[0m\u001b[0m_query\u001b[0m\u001b[0;34m(\u001b[0m\u001b[0mquery\u001b[0m\u001b[0;34m)\u001b[0m\u001b[0;34m\u001b[0m\u001b[0;34m\u001b[0m\u001b[0m\n\u001b[0m\u001b[1;32m    164\u001b[0m         \u001b[0mself\u001b[0m\u001b[0;34m.\u001b[0m\u001b[0m_executed\u001b[0m \u001b[0;34m=\u001b[0m \u001b[0mquery\u001b[0m\u001b[0;34m\u001b[0m\u001b[0;34m\u001b[0m\u001b[0m\n\u001b[1;32m    165\u001b[0m         \u001b[0;32mreturn\u001b[0m \u001b[0mresult\u001b[0m\u001b[0;34m\u001b[0m\u001b[0;34m\u001b[0m\u001b[0m\n",
      "\u001b[0;32m/opt/anaconda3/lib/python3.7/site-packages/pymysql/cursors.py\u001b[0m in \u001b[0;36m_query\u001b[0;34m(self, q)\u001b[0m\n\u001b[1;32m    319\u001b[0m         \u001b[0mself\u001b[0m\u001b[0;34m.\u001b[0m\u001b[0m_last_executed\u001b[0m \u001b[0;34m=\u001b[0m \u001b[0mq\u001b[0m\u001b[0;34m\u001b[0m\u001b[0;34m\u001b[0m\u001b[0m\n\u001b[1;32m    320\u001b[0m         \u001b[0mself\u001b[0m\u001b[0;34m.\u001b[0m\u001b[0m_clear_result\u001b[0m\u001b[0;34m(\u001b[0m\u001b[0;34m)\u001b[0m\u001b[0;34m\u001b[0m\u001b[0;34m\u001b[0m\u001b[0m\n\u001b[0;32m--> 321\u001b[0;31m         \u001b[0mconn\u001b[0m\u001b[0;34m.\u001b[0m\u001b[0mquery\u001b[0m\u001b[0;34m(\u001b[0m\u001b[0mq\u001b[0m\u001b[0;34m)\u001b[0m\u001b[0;34m\u001b[0m\u001b[0;34m\u001b[0m\u001b[0m\n\u001b[0m\u001b[1;32m    322\u001b[0m         \u001b[0mself\u001b[0m\u001b[0;34m.\u001b[0m\u001b[0m_do_get_result\u001b[0m\u001b[0;34m(\u001b[0m\u001b[0;34m)\u001b[0m\u001b[0;34m\u001b[0m\u001b[0;34m\u001b[0m\u001b[0m\n\u001b[1;32m    323\u001b[0m         \u001b[0;32mreturn\u001b[0m \u001b[0mself\u001b[0m\u001b[0;34m.\u001b[0m\u001b[0mrowcount\u001b[0m\u001b[0;34m\u001b[0m\u001b[0;34m\u001b[0m\u001b[0m\n",
      "\u001b[0;32m/opt/anaconda3/lib/python3.7/site-packages/pymysql/connections.py\u001b[0m in \u001b[0;36mquery\u001b[0;34m(self, sql, unbuffered)\u001b[0m\n\u001b[1;32m    503\u001b[0m                 \u001b[0msql\u001b[0m \u001b[0;34m=\u001b[0m \u001b[0msql\u001b[0m\u001b[0;34m.\u001b[0m\u001b[0mencode\u001b[0m\u001b[0;34m(\u001b[0m\u001b[0mself\u001b[0m\u001b[0;34m.\u001b[0m\u001b[0mencoding\u001b[0m\u001b[0;34m,\u001b[0m \u001b[0;34m'surrogateescape'\u001b[0m\u001b[0;34m)\u001b[0m\u001b[0;34m\u001b[0m\u001b[0;34m\u001b[0m\u001b[0m\n\u001b[1;32m    504\u001b[0m         \u001b[0mself\u001b[0m\u001b[0;34m.\u001b[0m\u001b[0m_execute_command\u001b[0m\u001b[0;34m(\u001b[0m\u001b[0mCOMMAND\u001b[0m\u001b[0;34m.\u001b[0m\u001b[0mCOM_QUERY\u001b[0m\u001b[0;34m,\u001b[0m \u001b[0msql\u001b[0m\u001b[0;34m)\u001b[0m\u001b[0;34m\u001b[0m\u001b[0;34m\u001b[0m\u001b[0m\n\u001b[0;32m--> 505\u001b[0;31m         \u001b[0mself\u001b[0m\u001b[0;34m.\u001b[0m\u001b[0m_affected_rows\u001b[0m \u001b[0;34m=\u001b[0m \u001b[0mself\u001b[0m\u001b[0;34m.\u001b[0m\u001b[0m_read_query_result\u001b[0m\u001b[0;34m(\u001b[0m\u001b[0munbuffered\u001b[0m\u001b[0;34m=\u001b[0m\u001b[0munbuffered\u001b[0m\u001b[0;34m)\u001b[0m\u001b[0;34m\u001b[0m\u001b[0;34m\u001b[0m\u001b[0m\n\u001b[0m\u001b[1;32m    506\u001b[0m         \u001b[0;32mreturn\u001b[0m \u001b[0mself\u001b[0m\u001b[0;34m.\u001b[0m\u001b[0m_affected_rows\u001b[0m\u001b[0;34m\u001b[0m\u001b[0;34m\u001b[0m\u001b[0m\n\u001b[1;32m    507\u001b[0m \u001b[0;34m\u001b[0m\u001b[0m\n",
      "\u001b[0;32m/opt/anaconda3/lib/python3.7/site-packages/pymysql/connections.py\u001b[0m in \u001b[0;36m_read_query_result\u001b[0;34m(self, unbuffered)\u001b[0m\n\u001b[1;32m    722\u001b[0m         \u001b[0;32melse\u001b[0m\u001b[0;34m:\u001b[0m\u001b[0;34m\u001b[0m\u001b[0;34m\u001b[0m\u001b[0m\n\u001b[1;32m    723\u001b[0m             \u001b[0mresult\u001b[0m \u001b[0;34m=\u001b[0m \u001b[0mMySQLResult\u001b[0m\u001b[0;34m(\u001b[0m\u001b[0mself\u001b[0m\u001b[0;34m)\u001b[0m\u001b[0;34m\u001b[0m\u001b[0;34m\u001b[0m\u001b[0m\n\u001b[0;32m--> 724\u001b[0;31m             \u001b[0mresult\u001b[0m\u001b[0;34m.\u001b[0m\u001b[0mread\u001b[0m\u001b[0;34m(\u001b[0m\u001b[0;34m)\u001b[0m\u001b[0;34m\u001b[0m\u001b[0;34m\u001b[0m\u001b[0m\n\u001b[0m\u001b[1;32m    725\u001b[0m         \u001b[0mself\u001b[0m\u001b[0;34m.\u001b[0m\u001b[0m_result\u001b[0m \u001b[0;34m=\u001b[0m \u001b[0mresult\u001b[0m\u001b[0;34m\u001b[0m\u001b[0;34m\u001b[0m\u001b[0m\n\u001b[1;32m    726\u001b[0m         \u001b[0;32mif\u001b[0m \u001b[0mresult\u001b[0m\u001b[0;34m.\u001b[0m\u001b[0mserver_status\u001b[0m \u001b[0;32mis\u001b[0m \u001b[0;32mnot\u001b[0m \u001b[0;32mNone\u001b[0m\u001b[0;34m:\u001b[0m\u001b[0;34m\u001b[0m\u001b[0;34m\u001b[0m\u001b[0m\n",
      "\u001b[0;32m/opt/anaconda3/lib/python3.7/site-packages/pymysql/connections.py\u001b[0m in \u001b[0;36mread\u001b[0;34m(self)\u001b[0m\n\u001b[1;32m   1067\u001b[0m     \u001b[0;32mdef\u001b[0m \u001b[0mread\u001b[0m\u001b[0;34m(\u001b[0m\u001b[0mself\u001b[0m\u001b[0;34m)\u001b[0m\u001b[0;34m:\u001b[0m\u001b[0;34m\u001b[0m\u001b[0;34m\u001b[0m\u001b[0m\n\u001b[1;32m   1068\u001b[0m         \u001b[0;32mtry\u001b[0m\u001b[0;34m:\u001b[0m\u001b[0;34m\u001b[0m\u001b[0;34m\u001b[0m\u001b[0m\n\u001b[0;32m-> 1069\u001b[0;31m             \u001b[0mfirst_packet\u001b[0m \u001b[0;34m=\u001b[0m \u001b[0mself\u001b[0m\u001b[0;34m.\u001b[0m\u001b[0mconnection\u001b[0m\u001b[0;34m.\u001b[0m\u001b[0m_read_packet\u001b[0m\u001b[0;34m(\u001b[0m\u001b[0;34m)\u001b[0m\u001b[0;34m\u001b[0m\u001b[0;34m\u001b[0m\u001b[0m\n\u001b[0m\u001b[1;32m   1070\u001b[0m \u001b[0;34m\u001b[0m\u001b[0m\n\u001b[1;32m   1071\u001b[0m             \u001b[0;32mif\u001b[0m \u001b[0mfirst_packet\u001b[0m\u001b[0;34m.\u001b[0m\u001b[0mis_ok_packet\u001b[0m\u001b[0;34m(\u001b[0m\u001b[0;34m)\u001b[0m\u001b[0;34m:\u001b[0m\u001b[0;34m\u001b[0m\u001b[0;34m\u001b[0m\u001b[0m\n",
      "\u001b[0;32m/opt/anaconda3/lib/python3.7/site-packages/pymysql/connections.py\u001b[0m in \u001b[0;36m_read_packet\u001b[0;34m(self, packet_type)\u001b[0m\n\u001b[1;32m    674\u001b[0m             \u001b[0;32mif\u001b[0m \u001b[0mself\u001b[0m\u001b[0;34m.\u001b[0m\u001b[0m_result\u001b[0m \u001b[0;32mis\u001b[0m \u001b[0;32mnot\u001b[0m \u001b[0;32mNone\u001b[0m \u001b[0;32mand\u001b[0m \u001b[0mself\u001b[0m\u001b[0;34m.\u001b[0m\u001b[0m_result\u001b[0m\u001b[0;34m.\u001b[0m\u001b[0munbuffered_active\u001b[0m \u001b[0;32mis\u001b[0m \u001b[0;32mTrue\u001b[0m\u001b[0;34m:\u001b[0m\u001b[0;34m\u001b[0m\u001b[0;34m\u001b[0m\u001b[0m\n\u001b[1;32m    675\u001b[0m                 \u001b[0mself\u001b[0m\u001b[0;34m.\u001b[0m\u001b[0m_result\u001b[0m\u001b[0;34m.\u001b[0m\u001b[0munbuffered_active\u001b[0m \u001b[0;34m=\u001b[0m \u001b[0;32mFalse\u001b[0m\u001b[0;34m\u001b[0m\u001b[0;34m\u001b[0m\u001b[0m\n\u001b[0;32m--> 676\u001b[0;31m             \u001b[0mpacket\u001b[0m\u001b[0;34m.\u001b[0m\u001b[0mraise_for_error\u001b[0m\u001b[0;34m(\u001b[0m\u001b[0;34m)\u001b[0m\u001b[0;34m\u001b[0m\u001b[0;34m\u001b[0m\u001b[0m\n\u001b[0m\u001b[1;32m    677\u001b[0m         \u001b[0;32mreturn\u001b[0m \u001b[0mpacket\u001b[0m\u001b[0;34m\u001b[0m\u001b[0;34m\u001b[0m\u001b[0m\n\u001b[1;32m    678\u001b[0m \u001b[0;34m\u001b[0m\u001b[0m\n",
      "\u001b[0;32m/opt/anaconda3/lib/python3.7/site-packages/pymysql/protocol.py\u001b[0m in \u001b[0;36mraise_for_error\u001b[0;34m(self)\u001b[0m\n\u001b[1;32m    221\u001b[0m         \u001b[0merrno\u001b[0m \u001b[0;34m=\u001b[0m \u001b[0mself\u001b[0m\u001b[0;34m.\u001b[0m\u001b[0mread_uint16\u001b[0m\u001b[0;34m(\u001b[0m\u001b[0;34m)\u001b[0m\u001b[0;34m\u001b[0m\u001b[0;34m\u001b[0m\u001b[0m\n\u001b[1;32m    222\u001b[0m         \u001b[0;32mif\u001b[0m \u001b[0mDEBUG\u001b[0m\u001b[0;34m:\u001b[0m \u001b[0mprint\u001b[0m\u001b[0;34m(\u001b[0m\u001b[0;34m\"errno =\"\u001b[0m\u001b[0;34m,\u001b[0m \u001b[0merrno\u001b[0m\u001b[0;34m)\u001b[0m\u001b[0;34m\u001b[0m\u001b[0;34m\u001b[0m\u001b[0m\n\u001b[0;32m--> 223\u001b[0;31m         \u001b[0merr\u001b[0m\u001b[0;34m.\u001b[0m\u001b[0mraise_mysql_exception\u001b[0m\u001b[0;34m(\u001b[0m\u001b[0mself\u001b[0m\u001b[0;34m.\u001b[0m\u001b[0m_data\u001b[0m\u001b[0;34m)\u001b[0m\u001b[0;34m\u001b[0m\u001b[0;34m\u001b[0m\u001b[0m\n\u001b[0m\u001b[1;32m    224\u001b[0m \u001b[0;34m\u001b[0m\u001b[0m\n\u001b[1;32m    225\u001b[0m     \u001b[0;32mdef\u001b[0m \u001b[0mdump\u001b[0m\u001b[0;34m(\u001b[0m\u001b[0mself\u001b[0m\u001b[0;34m)\u001b[0m\u001b[0;34m:\u001b[0m\u001b[0;34m\u001b[0m\u001b[0;34m\u001b[0m\u001b[0m\n",
      "\u001b[0;32m/opt/anaconda3/lib/python3.7/site-packages/pymysql/err.py\u001b[0m in \u001b[0;36mraise_mysql_exception\u001b[0;34m(data)\u001b[0m\n\u001b[1;32m    105\u001b[0m     \u001b[0;32mif\u001b[0m \u001b[0merrorclass\u001b[0m \u001b[0;32mis\u001b[0m \u001b[0;32mNone\u001b[0m\u001b[0;34m:\u001b[0m\u001b[0;34m\u001b[0m\u001b[0;34m\u001b[0m\u001b[0m\n\u001b[1;32m    106\u001b[0m         \u001b[0merrorclass\u001b[0m \u001b[0;34m=\u001b[0m \u001b[0mInternalError\u001b[0m \u001b[0;32mif\u001b[0m \u001b[0merrno\u001b[0m \u001b[0;34m<\u001b[0m \u001b[0;36m1000\u001b[0m \u001b[0;32melse\u001b[0m \u001b[0mOperationalError\u001b[0m\u001b[0;34m\u001b[0m\u001b[0;34m\u001b[0m\u001b[0m\n\u001b[0;32m--> 107\u001b[0;31m     \u001b[0;32mraise\u001b[0m \u001b[0merrorclass\u001b[0m\u001b[0;34m(\u001b[0m\u001b[0merrno\u001b[0m\u001b[0;34m,\u001b[0m \u001b[0merrval\u001b[0m\u001b[0;34m)\u001b[0m\u001b[0;34m\u001b[0m\u001b[0;34m\u001b[0m\u001b[0m\n\u001b[0m",
      "\u001b[0;31mIntegrityError\u001b[0m: (1452, 'Cannot add or update a child row: a foreign key constraint fails (`movie`.`branch`, CONSTRAINT `branch_ibfk_1` FOREIGN KEY (`city_id`) REFERENCES `city` (`city_id`))')"
     ]
    }
   ],
   "source": [
    "# 경기\n",
    "for i in range(len(gg)):\n",
    "    name = list(gg['name'])[i]\n",
    "    ids = list(gg['id'])[i]\n",
    "    brand = list(gg['brand'])[i]\n",
    "    if brand == 'loci': brand = '롯데시네마'\n",
    "    elif brand == 'mega': brand = '메가박스'\n",
    "    else: brand = 'cgv'\n",
    "    sql = \"INSERT INTO branch VALUES( '\" + ids + \"' , '\" + name + \"', \" + '2' + \", '\"  +brand+ \"');\"\n",
    "    print(sql)\n",
    "    curs.execute(sql)"
   ]
  },
  {
   "cell_type": "code",
   "execution_count": 112,
   "metadata": {
    "collapsed": true,
    "jupyter": {
     "outputs_hidden": true
    }
   },
   "outputs": [
    {
     "name": "stdout",
     "output_type": "stream",
     "text": [
      "INSERT INTO branch VALUES( '0043' , '계양', 3, 'cgv');\n",
      "INSERT INTO branch VALUES( '0198' , '남주안', 3, 'cgv');\n",
      "INSERT INTO branch VALUES( '0021' , '부평', 3, 'cgv');\n",
      "INSERT INTO branch VALUES( '0247' , '연수역', 3, 'cgv');\n",
      "INSERT INTO branch VALUES( '0002' , '인천', 3, 'cgv');\n",
      "INSERT INTO branch VALUES( '0118' , '인천공항', 3, 'cgv');\n",
      "INSERT INTO branch VALUES( '0254' , '인천논현', 3, 'cgv');\n",
      "INSERT INTO branch VALUES( '0258' , '인천연수', 3, 'cgv');\n",
      "INSERT INTO branch VALUES( '0269' , '인천학익', 3, 'cgv');\n",
      "INSERT INTO branch VALUES( '0308' , '주안역', 3, 'cgv');\n",
      "INSERT INTO branch VALUES( '0235' , '청라', 3, 'cgv');\n",
      "INSERT INTO branch VALUES( '1|0002|3013' , '주엽', 3, '롯데시네마');\n",
      "INSERT INTO branch VALUES( '1|0002|3015' , '검단', 3, '롯데시네마');\n",
      "INSERT INTO branch VALUES( '1|0002|3003' , '부평', 3, '롯데시네마');\n",
      "INSERT INTO branch VALUES( '1|0002|3008' , '부평역사', 3, '롯데시네마');\n",
      "INSERT INTO branch VALUES( '1|0002|3035' , '인천아시아드', 3, '롯데시네마');\n",
      "INSERT INTO branch VALUES( '1|0002|3038' , '인천터미널', 3, '롯데시네마');\n",
      "INSERT INTO branch VALUES( '4041' , '검단', 3, '메가박스');\n",
      "INSERT INTO branch VALUES( '4062' , '송도', 3, '메가박스');\n",
      "INSERT INTO branch VALUES( '4001' , '영종', 3, '메가박스');\n",
      "INSERT INTO branch VALUES( '4051' , '인천논현', 3, '메가박스');\n",
      "INSERT INTO branch VALUES( '4042' , '청라', 3, '메가박스');\n",
      "INSERT INTO branch VALUES( '4043' , '청라지젤', 3, '메가박스');\n"
     ]
    }
   ],
   "source": [
    "# 인천\n",
    "for i in range(len(ic)):\n",
    "    name = list(ic['name'])[i]\n",
    "    ids = list(ic['id'])[i]\n",
    "    brand = list(ic['brand'])[i]\n",
    "    if brand == 'loci': brand = '롯데시네마'\n",
    "    elif brand == 'mega': brand = '메가박스'\n",
    "    else: brand = 'cgv'\n",
    "    sql = \"INSERT INTO branch VALUES( '\" + ids + \"' , '\" + name + \"', \" + '3' + \", '\"  +brand+ \"');\"\n",
    "    print(sql)\n",
    "    curs.execute(sql)"
   ]
  },
  {
   "cell_type": "code",
   "execution_count": 115,
   "metadata": {
    "collapsed": true,
    "jupyter": {
     "outputs_hidden": true
    }
   },
   "outputs": [
    {
     "name": "stdout",
     "output_type": "stream",
     "text": [
      "INSERT INTO branch VALUES( '0139' , '강릉', 4, 'cgv');\n",
      "INSERT INTO branch VALUES( '0144' , '원주', 4, 'cgv');\n",
      "INSERT INTO branch VALUES( '0281' , '인제', 4, 'cgv');\n",
      "INSERT INTO branch VALUES( '0070' , '춘천', 4, 'cgv');\n",
      "INSERT INTO branch VALUES( '1|0007|7001' , '남원주', 4, '롯데시네마');\n",
      "INSERT INTO branch VALUES( '1|0007|7002' , '동해', 4, '롯데시네마');\n",
      "INSERT INTO branch VALUES( '1|0007|7003' , '원주무실', 4, '롯데시네마');\n",
      "INSERT INTO branch VALUES( '1|0007|9081' , '춘천', 4, '롯데시네마');\n",
      "INSERT INTO branch VALUES( '2001' , '남춘천', 4, '메가박스');\n",
      "INSERT INTO branch VALUES( '2171' , '속초', 4, '메가박스');\n",
      "INSERT INTO branch VALUES( '2201' , '원주', 4, '메가박스');\n",
      "INSERT INTO branch VALUES( '2202' , '원주센트럴', 4, '메가박스');\n"
     ]
    }
   ],
   "source": [
    "# 강원\n",
    "for i in range(len(gw)):\n",
    "    name = list(gw['name'])[i]\n",
    "    ids = list(gw['id'])[i]\n",
    "    brand = list(gw['brand'])[i]\n",
    "    if brand == 'loci': brand = '롯데시네마'\n",
    "    elif brand == 'mega': brand = '메가박스'\n",
    "    else: brand = 'cgv'\n",
    "    sql = \"INSERT INTO branch VALUES( '\" + ids + \"' , '\" + name + \"', \" + '4' + \", '\"  +brand+ \"');\"\n",
    "    print(sql)\n",
    "    curs.execute(sql)"
   ]
  },
  {
   "cell_type": "code",
   "execution_count": 116,
   "metadata": {
    "collapsed": true,
    "jupyter": {
     "outputs_hidden": true
    }
   },
   "outputs": [
    {
     "name": "stdout",
     "output_type": "stream",
     "text": [
      "INSERT INTO branch VALUES( '0207' , '당진', 5, 'cgv');\n",
      "INSERT INTO branch VALUES( '0007' , '대전', 5, 'cgv');\n",
      "INSERT INTO branch VALUES( '0286' , '대전가수원', 5, 'cgv');\n",
      "INSERT INTO branch VALUES( '0154' , '대전가오', 5, 'cgv');\n",
      "INSERT INTO branch VALUES( '0202' , '대전탄방', 5, 'cgv');\n",
      "INSERT INTO branch VALUES( '0127' , '대전터미널', 5, 'cgv');\n",
      "INSERT INTO branch VALUES( '0275' , '보령', 5, 'cgv');\n",
      "INSERT INTO branch VALUES( '0091' , '서산', 5, 'cgv');\n",
      "INSERT INTO branch VALUES( '0219' , '세종', 5, 'cgv');\n",
      "INSERT INTO branch VALUES( '0206' , '유성노은', 5, 'cgv');\n",
      "INSERT INTO branch VALUES( '0044' , '천안', 5, 'cgv');\n",
      "INSERT INTO branch VALUES( '0293' , '천안터미널', 5, 'cgv');\n",
      "INSERT INTO branch VALUES( '0110' , '천안펜타포트', 5, 'cgv');\n",
      "INSERT INTO branch VALUES( '0228' , '청주(서문)', 5, 'cgv');\n",
      "INSERT INTO branch VALUES( '0297' , '청주성안길', 5, 'cgv');\n",
      "INSERT INTO branch VALUES( '0282' , '청주율량', 5, 'cgv');\n",
      "INSERT INTO branch VALUES( '0142' , '청주지웰시티', 5, 'cgv');\n",
      "INSERT INTO branch VALUES( '0319' , '청주터미널', 5, 'cgv');\n",
      "INSERT INTO branch VALUES( '0284' , '충북혁신', 5, 'cgv');\n",
      "INSERT INTO branch VALUES( '0217' , '홍성', 5, 'cgv');\n",
      "INSERT INTO branch VALUES( '1|0003|4002' , '대전(백화점)', 5, '롯데시네마');\n",
      "INSERT INTO branch VALUES( '1|0003|4009' , '대전관저', 5, '롯데시네마');\n",
      "INSERT INTO branch VALUES( '1|0003|4006' , '대전둔산(월평동)', 5, '롯데시네마');\n",
      "INSERT INTO branch VALUES( '1|0003|4008' , '대전센트럴', 5, '롯데시네마');\n",
      "INSERT INTO branch VALUES( '1|0003|9044' , '서산', 5, '롯데시네마');\n",
      "INSERT INTO branch VALUES( '1|0003|4004' , '서청주(아울렛)', 5, '롯데시네마');\n",
      "INSERT INTO branch VALUES( '1|0003|4005' , '아산터미널', 5, '롯데시네마');\n",
      "INSERT INTO branch VALUES( '1|0003|4003' , '청주(성안길)', 5, '롯데시네마');\n",
      "INSERT INTO branch VALUES( '1|0003|4007' , '청주용암', 5, '롯데시네마');\n",
      "INSERT INTO branch VALUES( '1|0003|' , '충주', 5, '롯데시네마');\n",
      "INSERT INTO branch VALUES( '3141' , '공주', 5, '메가박스');\n",
      "INSERT INTO branch VALUES( '3021' , '대전', 5, '메가박스');\n",
      "INSERT INTO branch VALUES( '0009' , '대전유성', 5, '메가박스');\n",
      "INSERT INTO branch VALUES( '3011' , '대전중앙로', 5, '메가박스');\n",
      "INSERT INTO branch VALUES( '0017' , '대전현대아울렛', 5, '메가박스');\n",
      "INSERT INTO branch VALUES( '3391' , '세종(조치원)', 5, '메가박스');\n",
      "INSERT INTO branch VALUES( '3392' , '세종나성', 5, '메가박스');\n",
      "INSERT INTO branch VALUES( '0008' , '세종청사', 5, '메가박스');\n",
      "INSERT INTO branch VALUES( '3631' , '오창', 5, '메가박스');\n",
      "INSERT INTO branch VALUES( '3901' , '제천', 5, '메가박스');\n",
      "INSERT INTO branch VALUES( '3651' , '진천', 5, '메가박스');\n",
      "INSERT INTO branch VALUES( '3301' , '천안', 5, '메가박스');\n",
      "INSERT INTO branch VALUES( '0013' , '청주사창', 5, '메가박스');\n",
      "INSERT INTO branch VALUES( '3801' , '충주', 5, '메가박스');\n",
      "INSERT INTO branch VALUES( '3501' , '홍성내포', 5, '메가박스');\n"
     ]
    }
   ],
   "source": [
    "# 충청 대구 세종\n",
    "for i in range(len(cds)):\n",
    "    name = list(cds['name'])[i]\n",
    "    ids = list(cds['id'])[i]\n",
    "    brand = list(cds['brand'])[i]\n",
    "    if brand == 'loci': brand = '롯데시네마'\n",
    "    elif brand == 'mega': brand = '메가박스'\n",
    "    else: brand = 'cgv'\n",
    "    sql = \"INSERT INTO branch VALUES( '\" + ids + \"' , '\" + name + \"', \" + '5' + \", '\"  +brand+ \"');\"\n",
    "    print(sql)\n",
    "    curs.execute(sql)"
   ]
  },
  {
   "cell_type": "code",
   "execution_count": 117,
   "metadata": {
    "collapsed": true,
    "jupyter": {
     "outputs_hidden": true
    }
   },
   "outputs": [
    {
     "name": "stdout",
     "output_type": "stream",
     "text": [
      "INSERT INTO branch VALUES( '0058' , '대구', 6, 'cgv');\n",
      "INSERT INTO branch VALUES( '0157' , '대구수성', 6, 'cgv');\n",
      "INSERT INTO branch VALUES( '0108' , '대구스타디움', 6, 'cgv');\n",
      "INSERT INTO branch VALUES( '0185' , '대구아카데미', 6, 'cgv');\n",
      "INSERT INTO branch VALUES( '0216' , '대구월성', 6, 'cgv');\n",
      "INSERT INTO branch VALUES( '0117' , '대구이시아', 6, 'cgv');\n",
      "INSERT INTO branch VALUES( '0071' , '대구칠곡', 6, 'cgv');\n",
      "INSERT INTO branch VALUES( '0147' , '대구한일', 6, 'cgv');\n",
      "INSERT INTO branch VALUES( '0109' , '대구현대', 6, 'cgv');\n",
      "INSERT INTO branch VALUES( '0263' , '거제', 6, 'cgv');\n",
      "INSERT INTO branch VALUES( '0053' , '구미', 6, 'cgv');\n",
      "INSERT INTO branch VALUES( '0240' , '김천율곡', 6, 'cgv');\n",
      "INSERT INTO branch VALUES( '0028' , '김해', 6, 'cgv');\n",
      "INSERT INTO branch VALUES( '0311' , '김해율하', 6, 'cgv');\n",
      "INSERT INTO branch VALUES( '0239' , '김해장유', 6, 'cgv');\n",
      "INSERT INTO branch VALUES( '0033' , '마산', 6, 'cgv');\n",
      "INSERT INTO branch VALUES( '0097' , '북포항', 6, 'cgv');\n",
      "INSERT INTO branch VALUES( '0272' , '안동', 6, 'cgv');\n",
      "INSERT INTO branch VALUES( '0222' , '양산물금', 6, 'cgv');\n",
      "INSERT INTO branch VALUES( '0234' , '양산삼호', 6, 'cgv');\n",
      "INSERT INTO branch VALUES( '0023' , '창원', 6, 'cgv');\n",
      "INSERT INTO branch VALUES( '0079' , '창원더시티', 6, 'cgv');\n",
      "INSERT INTO branch VALUES( '0156' , '통영', 6, 'cgv');\n",
      "INSERT INTO branch VALUES( '0045' , '포항', 6, 'cgv');\n",
      "INSERT INTO branch VALUES( '1|0005|5008' , '경산', 6, '롯데시네마');\n",
      "INSERT INTO branch VALUES( '1|0005|9050' , '경주', 6, '롯데시네마');\n",
      "INSERT INTO branch VALUES( '1|0005|9001' , '구미 프라임1번가', 6, '롯데시네마');\n",
      "INSERT INTO branch VALUES( '1|0005|5013' , '구미공단', 6, '롯데시네마');\n",
      "INSERT INTO branch VALUES( '1|0005|5012' , '대구광장', 6, '롯데시네마');\n",
      "INSERT INTO branch VALUES( '1|0005|5006' , '대구율하', 6, '롯데시네마');\n",
      "INSERT INTO branch VALUES( '1|0005|9076' , '대구현풍', 6, '롯데시네마');\n",
      "INSERT INTO branch VALUES( '1|0005|5005' , '동성로', 6, '롯데시네마');\n",
      "INSERT INTO branch VALUES( '1|0005|5016' , '상인', 6, '롯데시네마');\n",
      "INSERT INTO branch VALUES( '1|0005|9080' , '상주', 6, '롯데시네마');\n",
      "INSERT INTO branch VALUES( '1|0005|5004' , '성서', 6, '롯데시네마');\n",
      "INSERT INTO branch VALUES( '1|0005|9064' , '영주', 6, '롯데시네마');\n",
      "INSERT INTO branch VALUES( '1|0005|5007' , '포항', 6, '롯데시네마');\n",
      "INSERT INTO branch VALUES( '1|0005|9067' , '프리미엄구미센트럴', 6, '롯데시네마');\n",
      "INSERT INTO branch VALUES( '1|0005|9066' , '프리미엄만경', 6, '롯데시네마');\n",
      "INSERT INTO branch VALUES( '1|0005|9074' , '프리미엄안동', 6, '롯데시네마');\n",
      "INSERT INTO branch VALUES( '1|0005|9057' , '프리미엄칠곡', 6, '롯데시네마');\n",
      "INSERT INTO branch VALUES( '1|0006|9082' , '거창', 6, '롯데시네마');\n",
      "INSERT INTO branch VALUES( '1|0006|5015' , '김해부원', 6, '롯데시네마');\n",
      "INSERT INTO branch VALUES( '1|0006|5011' , '김해아울렛(장유)', 6, '롯데시네마');\n",
      "INSERT INTO branch VALUES( '1|0006|9042' , '마산(합성동)', 6, '롯데시네마');\n",
      "INSERT INTO branch VALUES( '1|0006|9069' , '엠비씨네(진주)', 6, '롯데시네마');\n",
      "INSERT INTO branch VALUES( '1|0006|5017' , '진주혁신(롯데몰)', 6, '롯데시네마');\n",
      "INSERT INTO branch VALUES( '1|0006|5009' , '진해', 6, '롯데시네마');\n",
      "INSERT INTO branch VALUES( '1|0006|5002' , '창원', 6, '롯데시네마');\n",
      "INSERT INTO branch VALUES( '1|0006|9036' , '통영', 6, '롯데시네마');\n",
      "INSERT INTO branch VALUES( '1|0006|9072' , '프리미엄경남대', 6, '롯데시네마');\n",
      "INSERT INTO branch VALUES( '1|0006|9003' , '프리미엄진주(중안)', 6, '롯데시네마');\n",
      "INSERT INTO branch VALUES( '7602' , '경북도청', 6, '메가박스');\n",
      "INSERT INTO branch VALUES( '7122' , '경산하양', 6, '메가박스');\n",
      "INSERT INTO branch VALUES( '7801' , '경주', 6, '메가박스');\n",
      "INSERT INTO branch VALUES( '7303' , '구미강동', 6, '메가박스');\n",
      "INSERT INTO branch VALUES( '7401' , '김천', 6, '메가박스');\n",
      "INSERT INTO branch VALUES( '7901' , '남포항', 6, '메가박스');\n",
      "INSERT INTO branch VALUES( '7022' , '대구(칠성로)', 6, '메가박스');\n",
      "INSERT INTO branch VALUES( '7011' , '대구신세계(동대구)', 6, '메가박스');\n",
      "INSERT INTO branch VALUES( '7012' , '대구이시아', 6, '메가박스');\n",
      "INSERT INTO branch VALUES( '6312' , '마산', 6, '메가박스');\n",
      "INSERT INTO branch VALUES( '7451' , '문경', 6, '메가박스');\n",
      "INSERT INTO branch VALUES( '6261' , '양산', 6, '메가박스');\n",
      "INSERT INTO branch VALUES( '6262' , '양산라피에스타', 6, '메가박스');\n",
      "INSERT INTO branch VALUES( '6811' , '울산', 6, '메가박스');\n",
      "INSERT INTO branch VALUES( '7021' , '북대구(칠곡)', 6, '메가박스');\n",
      "INSERT INTO branch VALUES( '6641' , '사천', 6, '메가박스');\n",
      "INSERT INTO branch VALUES( '6642' , '삼천포', 6, '메가박스');\n",
      "INSERT INTO branch VALUES( '6421' , '창원', 6, '메가박스');\n",
      "INSERT INTO branch VALUES( '0014' , '창원내서', 6, '메가박스');\n"
     ]
    }
   ],
   "source": [
    "# 대구 경상\n",
    "for i in range(len(dg)):\n",
    "    name = list(dg['name'])[i]\n",
    "    ids = list(dg['id'])[i]\n",
    "    brand = list(dg['brand'])[i]\n",
    "    if brand == 'loci': brand = '롯데시네마'\n",
    "    elif brand == 'mega': brand = '메가박스'\n",
    "    else: brand = 'cgv'\n",
    "    sql = \"INSERT INTO branch VALUES( '\" + ids + \"' , '\" + name + \"', \" + '6' + \", '\"  +brand+ \"');\"\n",
    "    print(sql)\n",
    "    curs.execute(sql)"
   ]
  },
  {
   "cell_type": "code",
   "execution_count": 118,
   "metadata": {
    "collapsed": true,
    "jupyter": {
     "outputs_hidden": true
    }
   },
   "outputs": [
    {
     "name": "stdout",
     "output_type": "stream",
     "text": [
      "INSERT INTO branch VALUES( '0065' , '남포', 7, 'cgv');\n",
      "INSERT INTO branch VALUES( '0061' , '대연', 7, 'cgv');\n",
      "INSERT INTO branch VALUES( '0042' , '동래', 7, 'cgv');\n",
      "INSERT INTO branch VALUES( '0005' , '서면', 7, 'cgv');\n",
      "INSERT INTO branch VALUES( '0285' , '서면삼정타워', 7, 'cgv');\n",
      "INSERT INTO branch VALUES( '0089' , '센텀시티', 7, 'cgv');\n",
      "INSERT INTO branch VALUES( '0160' , '아시아드', 7, 'cgv');\n",
      "INSERT INTO branch VALUES( '0128' , '울산삼산', 7, 'cgv');\n",
      "INSERT INTO branch VALUES( '0264' , '울산신천', 7, 'cgv');\n",
      "INSERT INTO branch VALUES( '0246' , '울산진장', 7, 'cgv');\n",
      "INSERT INTO branch VALUES( '0306' , '정관', 7, 'cgv');\n",
      "INSERT INTO branch VALUES( '0245' , '하단아트몰링', 7, 'cgv');\n",
      "INSERT INTO branch VALUES( '0318' , '해운대', 7, 'cgv');\n",
      "INSERT INTO branch VALUES( '0159' , '화명', 7, 'cgv');\n",
      "INSERT INTO branch VALUES( '1|0006|2004' , '부산본점', 7, '롯데시네마');\n",
      "INSERT INTO branch VALUES( '1|0006|2012' , '대영', 7, '롯데시네마');\n",
      "INSERT INTO branch VALUES( '1|0006|2007' , '동래', 7, '롯데시네마');\n",
      "INSERT INTO branch VALUES( '1|0006|2005' , '사상', 7, '롯데시네마');\n",
      "INSERT INTO branch VALUES( '1|0006|2008' , '서면(전포동)', 7, '롯데시네마');\n",
      "INSERT INTO branch VALUES( '1|0006|2009' , '광복', 7, '롯데시네마');\n",
      "INSERT INTO branch VALUES( '1|0006|2006' , '센텀시티', 7, '롯데시네마');\n",
      "INSERT INTO branch VALUES( '1|0006|2010' , '동부산아울렛', 7, '롯데시네마');\n",
      "INSERT INTO branch VALUES( '1|0006|2011' , '오투(부산대)', 7, '롯데시네마');\n",
      "INSERT INTO branch VALUES( '1|0006|5001' , '울산(백화점)', 7, '롯데시네마');\n",
      "INSERT INTO branch VALUES( '1|0006|5014' , '울산성남', 7, '롯데시네마');\n",
      "INSERT INTO branch VALUES( '1|0006|9059' , '프리미엄해운대(장산역)', 7, '롯데시네마');\n"
     ]
    },
    {
     "ename": "DataError",
     "evalue": "(1406, \"Data too long for column 'branch_name' at row 1\")",
     "output_type": "error",
     "traceback": [
      "\u001b[0;31m---------------------------------------------------------------------------\u001b[0m",
      "\u001b[0;31mDataError\u001b[0m                                 Traceback (most recent call last)",
      "\u001b[0;32m<ipython-input-118-a2e1044fa479>\u001b[0m in \u001b[0;36m<module>\u001b[0;34m\u001b[0m\n\u001b[1;32m      9\u001b[0m     \u001b[0msql\u001b[0m \u001b[0;34m=\u001b[0m \u001b[0;34m\"INSERT INTO branch VALUES( '\"\u001b[0m \u001b[0;34m+\u001b[0m \u001b[0mids\u001b[0m \u001b[0;34m+\u001b[0m \u001b[0;34m\"' , '\"\u001b[0m \u001b[0;34m+\u001b[0m \u001b[0mname\u001b[0m \u001b[0;34m+\u001b[0m \u001b[0;34m\"', \"\u001b[0m \u001b[0;34m+\u001b[0m \u001b[0;34m'7'\u001b[0m \u001b[0;34m+\u001b[0m \u001b[0;34m\", '\"\u001b[0m  \u001b[0;34m+\u001b[0m\u001b[0mbrand\u001b[0m\u001b[0;34m+\u001b[0m \u001b[0;34m\"');\"\u001b[0m\u001b[0;34m\u001b[0m\u001b[0;34m\u001b[0m\u001b[0m\n\u001b[1;32m     10\u001b[0m     \u001b[0mprint\u001b[0m\u001b[0;34m(\u001b[0m\u001b[0msql\u001b[0m\u001b[0;34m)\u001b[0m\u001b[0;34m\u001b[0m\u001b[0;34m\u001b[0m\u001b[0m\n\u001b[0;32m---> 11\u001b[0;31m     \u001b[0mcurs\u001b[0m\u001b[0;34m.\u001b[0m\u001b[0mexecute\u001b[0m\u001b[0;34m(\u001b[0m\u001b[0msql\u001b[0m\u001b[0;34m)\u001b[0m\u001b[0;34m\u001b[0m\u001b[0;34m\u001b[0m\u001b[0m\n\u001b[0m",
      "\u001b[0;32m/opt/anaconda3/lib/python3.7/site-packages/pymysql/cursors.py\u001b[0m in \u001b[0;36mexecute\u001b[0;34m(self, query, args)\u001b[0m\n\u001b[1;32m    161\u001b[0m         \u001b[0mquery\u001b[0m \u001b[0;34m=\u001b[0m \u001b[0mself\u001b[0m\u001b[0;34m.\u001b[0m\u001b[0mmogrify\u001b[0m\u001b[0;34m(\u001b[0m\u001b[0mquery\u001b[0m\u001b[0;34m,\u001b[0m \u001b[0margs\u001b[0m\u001b[0;34m)\u001b[0m\u001b[0;34m\u001b[0m\u001b[0;34m\u001b[0m\u001b[0m\n\u001b[1;32m    162\u001b[0m \u001b[0;34m\u001b[0m\u001b[0m\n\u001b[0;32m--> 163\u001b[0;31m         \u001b[0mresult\u001b[0m \u001b[0;34m=\u001b[0m \u001b[0mself\u001b[0m\u001b[0;34m.\u001b[0m\u001b[0m_query\u001b[0m\u001b[0;34m(\u001b[0m\u001b[0mquery\u001b[0m\u001b[0;34m)\u001b[0m\u001b[0;34m\u001b[0m\u001b[0;34m\u001b[0m\u001b[0m\n\u001b[0m\u001b[1;32m    164\u001b[0m         \u001b[0mself\u001b[0m\u001b[0;34m.\u001b[0m\u001b[0m_executed\u001b[0m \u001b[0;34m=\u001b[0m \u001b[0mquery\u001b[0m\u001b[0;34m\u001b[0m\u001b[0;34m\u001b[0m\u001b[0m\n\u001b[1;32m    165\u001b[0m         \u001b[0;32mreturn\u001b[0m \u001b[0mresult\u001b[0m\u001b[0;34m\u001b[0m\u001b[0;34m\u001b[0m\u001b[0m\n",
      "\u001b[0;32m/opt/anaconda3/lib/python3.7/site-packages/pymysql/cursors.py\u001b[0m in \u001b[0;36m_query\u001b[0;34m(self, q)\u001b[0m\n\u001b[1;32m    319\u001b[0m         \u001b[0mself\u001b[0m\u001b[0;34m.\u001b[0m\u001b[0m_last_executed\u001b[0m \u001b[0;34m=\u001b[0m \u001b[0mq\u001b[0m\u001b[0;34m\u001b[0m\u001b[0;34m\u001b[0m\u001b[0m\n\u001b[1;32m    320\u001b[0m         \u001b[0mself\u001b[0m\u001b[0;34m.\u001b[0m\u001b[0m_clear_result\u001b[0m\u001b[0;34m(\u001b[0m\u001b[0;34m)\u001b[0m\u001b[0;34m\u001b[0m\u001b[0;34m\u001b[0m\u001b[0m\n\u001b[0;32m--> 321\u001b[0;31m         \u001b[0mconn\u001b[0m\u001b[0;34m.\u001b[0m\u001b[0mquery\u001b[0m\u001b[0;34m(\u001b[0m\u001b[0mq\u001b[0m\u001b[0;34m)\u001b[0m\u001b[0;34m\u001b[0m\u001b[0;34m\u001b[0m\u001b[0m\n\u001b[0m\u001b[1;32m    322\u001b[0m         \u001b[0mself\u001b[0m\u001b[0;34m.\u001b[0m\u001b[0m_do_get_result\u001b[0m\u001b[0;34m(\u001b[0m\u001b[0;34m)\u001b[0m\u001b[0;34m\u001b[0m\u001b[0;34m\u001b[0m\u001b[0m\n\u001b[1;32m    323\u001b[0m         \u001b[0;32mreturn\u001b[0m \u001b[0mself\u001b[0m\u001b[0;34m.\u001b[0m\u001b[0mrowcount\u001b[0m\u001b[0;34m\u001b[0m\u001b[0;34m\u001b[0m\u001b[0m\n",
      "\u001b[0;32m/opt/anaconda3/lib/python3.7/site-packages/pymysql/connections.py\u001b[0m in \u001b[0;36mquery\u001b[0;34m(self, sql, unbuffered)\u001b[0m\n\u001b[1;32m    503\u001b[0m                 \u001b[0msql\u001b[0m \u001b[0;34m=\u001b[0m \u001b[0msql\u001b[0m\u001b[0;34m.\u001b[0m\u001b[0mencode\u001b[0m\u001b[0;34m(\u001b[0m\u001b[0mself\u001b[0m\u001b[0;34m.\u001b[0m\u001b[0mencoding\u001b[0m\u001b[0;34m,\u001b[0m \u001b[0;34m'surrogateescape'\u001b[0m\u001b[0;34m)\u001b[0m\u001b[0;34m\u001b[0m\u001b[0;34m\u001b[0m\u001b[0m\n\u001b[1;32m    504\u001b[0m         \u001b[0mself\u001b[0m\u001b[0;34m.\u001b[0m\u001b[0m_execute_command\u001b[0m\u001b[0;34m(\u001b[0m\u001b[0mCOMMAND\u001b[0m\u001b[0;34m.\u001b[0m\u001b[0mCOM_QUERY\u001b[0m\u001b[0;34m,\u001b[0m \u001b[0msql\u001b[0m\u001b[0;34m)\u001b[0m\u001b[0;34m\u001b[0m\u001b[0;34m\u001b[0m\u001b[0m\n\u001b[0;32m--> 505\u001b[0;31m         \u001b[0mself\u001b[0m\u001b[0;34m.\u001b[0m\u001b[0m_affected_rows\u001b[0m \u001b[0;34m=\u001b[0m \u001b[0mself\u001b[0m\u001b[0;34m.\u001b[0m\u001b[0m_read_query_result\u001b[0m\u001b[0;34m(\u001b[0m\u001b[0munbuffered\u001b[0m\u001b[0;34m=\u001b[0m\u001b[0munbuffered\u001b[0m\u001b[0;34m)\u001b[0m\u001b[0;34m\u001b[0m\u001b[0;34m\u001b[0m\u001b[0m\n\u001b[0m\u001b[1;32m    506\u001b[0m         \u001b[0;32mreturn\u001b[0m \u001b[0mself\u001b[0m\u001b[0;34m.\u001b[0m\u001b[0m_affected_rows\u001b[0m\u001b[0;34m\u001b[0m\u001b[0;34m\u001b[0m\u001b[0m\n\u001b[1;32m    507\u001b[0m \u001b[0;34m\u001b[0m\u001b[0m\n",
      "\u001b[0;32m/opt/anaconda3/lib/python3.7/site-packages/pymysql/connections.py\u001b[0m in \u001b[0;36m_read_query_result\u001b[0;34m(self, unbuffered)\u001b[0m\n\u001b[1;32m    722\u001b[0m         \u001b[0;32melse\u001b[0m\u001b[0;34m:\u001b[0m\u001b[0;34m\u001b[0m\u001b[0;34m\u001b[0m\u001b[0m\n\u001b[1;32m    723\u001b[0m             \u001b[0mresult\u001b[0m \u001b[0;34m=\u001b[0m \u001b[0mMySQLResult\u001b[0m\u001b[0;34m(\u001b[0m\u001b[0mself\u001b[0m\u001b[0;34m)\u001b[0m\u001b[0;34m\u001b[0m\u001b[0;34m\u001b[0m\u001b[0m\n\u001b[0;32m--> 724\u001b[0;31m             \u001b[0mresult\u001b[0m\u001b[0;34m.\u001b[0m\u001b[0mread\u001b[0m\u001b[0;34m(\u001b[0m\u001b[0;34m)\u001b[0m\u001b[0;34m\u001b[0m\u001b[0;34m\u001b[0m\u001b[0m\n\u001b[0m\u001b[1;32m    725\u001b[0m         \u001b[0mself\u001b[0m\u001b[0;34m.\u001b[0m\u001b[0m_result\u001b[0m \u001b[0;34m=\u001b[0m \u001b[0mresult\u001b[0m\u001b[0;34m\u001b[0m\u001b[0;34m\u001b[0m\u001b[0m\n\u001b[1;32m    726\u001b[0m         \u001b[0;32mif\u001b[0m \u001b[0mresult\u001b[0m\u001b[0;34m.\u001b[0m\u001b[0mserver_status\u001b[0m \u001b[0;32mis\u001b[0m \u001b[0;32mnot\u001b[0m \u001b[0;32mNone\u001b[0m\u001b[0;34m:\u001b[0m\u001b[0;34m\u001b[0m\u001b[0;34m\u001b[0m\u001b[0m\n",
      "\u001b[0;32m/opt/anaconda3/lib/python3.7/site-packages/pymysql/connections.py\u001b[0m in \u001b[0;36mread\u001b[0;34m(self)\u001b[0m\n\u001b[1;32m   1067\u001b[0m     \u001b[0;32mdef\u001b[0m \u001b[0mread\u001b[0m\u001b[0;34m(\u001b[0m\u001b[0mself\u001b[0m\u001b[0;34m)\u001b[0m\u001b[0;34m:\u001b[0m\u001b[0;34m\u001b[0m\u001b[0;34m\u001b[0m\u001b[0m\n\u001b[1;32m   1068\u001b[0m         \u001b[0;32mtry\u001b[0m\u001b[0;34m:\u001b[0m\u001b[0;34m\u001b[0m\u001b[0;34m\u001b[0m\u001b[0m\n\u001b[0;32m-> 1069\u001b[0;31m             \u001b[0mfirst_packet\u001b[0m \u001b[0;34m=\u001b[0m \u001b[0mself\u001b[0m\u001b[0;34m.\u001b[0m\u001b[0mconnection\u001b[0m\u001b[0;34m.\u001b[0m\u001b[0m_read_packet\u001b[0m\u001b[0;34m(\u001b[0m\u001b[0;34m)\u001b[0m\u001b[0;34m\u001b[0m\u001b[0;34m\u001b[0m\u001b[0m\n\u001b[0m\u001b[1;32m   1070\u001b[0m \u001b[0;34m\u001b[0m\u001b[0m\n\u001b[1;32m   1071\u001b[0m             \u001b[0;32mif\u001b[0m \u001b[0mfirst_packet\u001b[0m\u001b[0;34m.\u001b[0m\u001b[0mis_ok_packet\u001b[0m\u001b[0;34m(\u001b[0m\u001b[0;34m)\u001b[0m\u001b[0;34m:\u001b[0m\u001b[0;34m\u001b[0m\u001b[0;34m\u001b[0m\u001b[0m\n",
      "\u001b[0;32m/opt/anaconda3/lib/python3.7/site-packages/pymysql/connections.py\u001b[0m in \u001b[0;36m_read_packet\u001b[0;34m(self, packet_type)\u001b[0m\n\u001b[1;32m    674\u001b[0m             \u001b[0;32mif\u001b[0m \u001b[0mself\u001b[0m\u001b[0;34m.\u001b[0m\u001b[0m_result\u001b[0m \u001b[0;32mis\u001b[0m \u001b[0;32mnot\u001b[0m \u001b[0;32mNone\u001b[0m \u001b[0;32mand\u001b[0m \u001b[0mself\u001b[0m\u001b[0;34m.\u001b[0m\u001b[0m_result\u001b[0m\u001b[0;34m.\u001b[0m\u001b[0munbuffered_active\u001b[0m \u001b[0;32mis\u001b[0m \u001b[0;32mTrue\u001b[0m\u001b[0;34m:\u001b[0m\u001b[0;34m\u001b[0m\u001b[0;34m\u001b[0m\u001b[0m\n\u001b[1;32m    675\u001b[0m                 \u001b[0mself\u001b[0m\u001b[0;34m.\u001b[0m\u001b[0m_result\u001b[0m\u001b[0;34m.\u001b[0m\u001b[0munbuffered_active\u001b[0m \u001b[0;34m=\u001b[0m \u001b[0;32mFalse\u001b[0m\u001b[0;34m\u001b[0m\u001b[0;34m\u001b[0m\u001b[0m\n\u001b[0;32m--> 676\u001b[0;31m             \u001b[0mpacket\u001b[0m\u001b[0;34m.\u001b[0m\u001b[0mraise_for_error\u001b[0m\u001b[0;34m(\u001b[0m\u001b[0;34m)\u001b[0m\u001b[0;34m\u001b[0m\u001b[0;34m\u001b[0m\u001b[0m\n\u001b[0m\u001b[1;32m    677\u001b[0m         \u001b[0;32mreturn\u001b[0m \u001b[0mpacket\u001b[0m\u001b[0;34m\u001b[0m\u001b[0;34m\u001b[0m\u001b[0m\n\u001b[1;32m    678\u001b[0m \u001b[0;34m\u001b[0m\u001b[0m\n",
      "\u001b[0;32m/opt/anaconda3/lib/python3.7/site-packages/pymysql/protocol.py\u001b[0m in \u001b[0;36mraise_for_error\u001b[0;34m(self)\u001b[0m\n\u001b[1;32m    221\u001b[0m         \u001b[0merrno\u001b[0m \u001b[0;34m=\u001b[0m \u001b[0mself\u001b[0m\u001b[0;34m.\u001b[0m\u001b[0mread_uint16\u001b[0m\u001b[0;34m(\u001b[0m\u001b[0;34m)\u001b[0m\u001b[0;34m\u001b[0m\u001b[0;34m\u001b[0m\u001b[0m\n\u001b[1;32m    222\u001b[0m         \u001b[0;32mif\u001b[0m \u001b[0mDEBUG\u001b[0m\u001b[0;34m:\u001b[0m \u001b[0mprint\u001b[0m\u001b[0;34m(\u001b[0m\u001b[0;34m\"errno =\"\u001b[0m\u001b[0;34m,\u001b[0m \u001b[0merrno\u001b[0m\u001b[0;34m)\u001b[0m\u001b[0;34m\u001b[0m\u001b[0;34m\u001b[0m\u001b[0m\n\u001b[0;32m--> 223\u001b[0;31m         \u001b[0merr\u001b[0m\u001b[0;34m.\u001b[0m\u001b[0mraise_mysql_exception\u001b[0m\u001b[0;34m(\u001b[0m\u001b[0mself\u001b[0m\u001b[0;34m.\u001b[0m\u001b[0m_data\u001b[0m\u001b[0;34m)\u001b[0m\u001b[0;34m\u001b[0m\u001b[0;34m\u001b[0m\u001b[0m\n\u001b[0m\u001b[1;32m    224\u001b[0m \u001b[0;34m\u001b[0m\u001b[0m\n\u001b[1;32m    225\u001b[0m     \u001b[0;32mdef\u001b[0m \u001b[0mdump\u001b[0m\u001b[0;34m(\u001b[0m\u001b[0mself\u001b[0m\u001b[0;34m)\u001b[0m\u001b[0;34m:\u001b[0m\u001b[0;34m\u001b[0m\u001b[0;34m\u001b[0m\u001b[0m\n",
      "\u001b[0;32m/opt/anaconda3/lib/python3.7/site-packages/pymysql/err.py\u001b[0m in \u001b[0;36mraise_mysql_exception\u001b[0;34m(data)\u001b[0m\n\u001b[1;32m    105\u001b[0m     \u001b[0;32mif\u001b[0m \u001b[0merrorclass\u001b[0m \u001b[0;32mis\u001b[0m \u001b[0;32mNone\u001b[0m\u001b[0;34m:\u001b[0m\u001b[0;34m\u001b[0m\u001b[0;34m\u001b[0m\u001b[0m\n\u001b[1;32m    106\u001b[0m         \u001b[0merrorclass\u001b[0m \u001b[0;34m=\u001b[0m \u001b[0mInternalError\u001b[0m \u001b[0;32mif\u001b[0m \u001b[0merrno\u001b[0m \u001b[0;34m<\u001b[0m \u001b[0;36m1000\u001b[0m \u001b[0;32melse\u001b[0m \u001b[0mOperationalError\u001b[0m\u001b[0;34m\u001b[0m\u001b[0;34m\u001b[0m\u001b[0m\n\u001b[0;32m--> 107\u001b[0;31m     \u001b[0;32mraise\u001b[0m \u001b[0merrorclass\u001b[0m\u001b[0;34m(\u001b[0m\u001b[0merrno\u001b[0m\u001b[0;34m,\u001b[0m \u001b[0merrval\u001b[0m\u001b[0;34m)\u001b[0m\u001b[0;34m\u001b[0m\u001b[0;34m\u001b[0m\u001b[0m\n\u001b[0m",
      "\u001b[0;31mDataError\u001b[0m: (1406, \"Data too long for column 'branch_name' at row 1\")"
     ]
    }
   ],
   "source": [
    "# 부산 울산\n",
    "for i in range(len(bu)):\n",
    "    name = list(bu['name'])[i]\n",
    "    ids = list(bu['id'])[i]\n",
    "    brand = list(bu['brand'])[i]\n",
    "    if brand == 'loci': brand = '롯데시네마'\n",
    "    elif brand == 'mega': brand = '메가박스'\n",
    "    else: brand = 'cgv'\n",
    "    sql = \"INSERT INTO branch VALUES( '\" + ids + \"' , '\" + name + \"', \" + '7' + \", '\"  +brand+ \"');\"\n",
    "    print(sql)\n",
    "    curs.execute(sql)"
   ]
  },
  {
   "cell_type": "code",
   "execution_count": 119,
   "metadata": {
    "collapsed": true,
    "jupyter": {
     "outputs_hidden": true
    }
   },
   "outputs": [
    {
     "name": "stdout",
     "output_type": "stream",
     "text": [
      "INSERT INTO branch VALUES( '0220' , '광양', 8, 'cgv');\n",
      "INSERT INTO branch VALUES( '0221' , '광양 엘에프스퀘어', 8, 'cgv');\n",
      "INSERT INTO branch VALUES( '0259' , '광주금남로', 8, 'cgv');\n",
      "INSERT INTO branch VALUES( '0193' , '광주상무', 8, 'cgv');\n",
      "INSERT INTO branch VALUES( '0210' , '광주용봉', 8, 'cgv');\n",
      "INSERT INTO branch VALUES( '0218' , '광주첨단', 8, 'cgv');\n",
      "INSERT INTO branch VALUES( '0244' , '광주충장로', 8, 'cgv');\n",
      "INSERT INTO branch VALUES( '0090' , '광주터미널', 8, 'cgv');\n",
      "INSERT INTO branch VALUES( '0215' , '광주하남', 8, 'cgv');\n",
      "INSERT INTO branch VALUES( '0277' , '군산', 8, 'cgv');\n",
      "INSERT INTO branch VALUES( '0237' , '나주', 8, 'cgv');\n",
      "INSERT INTO branch VALUES( '0289' , '목포', 8, 'cgv');\n",
      "INSERT INTO branch VALUES( '0280' , '목포평화광장', 8, 'cgv');\n",
      "INSERT INTO branch VALUES( '0225' , '서전주', 8, 'cgv');\n",
      "INSERT INTO branch VALUES( '0114' , '순천', 8, 'cgv');\n",
      "INSERT INTO branch VALUES( '0268' , '순천신대', 8, 'cgv');\n",
      "INSERT INTO branch VALUES( '0315' , '여수웅천', 8, 'cgv');\n",
      "INSERT INTO branch VALUES( '0020' , '익산', 8, 'cgv');\n",
      "INSERT INTO branch VALUES( '0213' , '전주고사', 8, 'cgv');\n",
      "INSERT INTO branch VALUES( '0179' , '전주효자', 8, 'cgv');\n",
      "INSERT INTO branch VALUES( '0186' , '정읍', 8, 'cgv');\n",
      "INSERT INTO branch VALUES( '1|0004|6001' , '광주(백화점)', 8, '롯데시네마');\n",
      "INSERT INTO branch VALUES( '1|0004|9065' , '광주광산', 8, '롯데시네마');\n",
      "INSERT INTO branch VALUES( '1|0004|6007' , '군산나운', 8, '롯데시네마');\n",
      "INSERT INTO branch VALUES( '1|0004|6009' , '군산몰', 8, '롯데시네마');\n",
      "INSERT INTO branch VALUES( '1|0004|6004' , '수완(아울렛)', 8, '롯데시네마');\n",
      "INSERT INTO branch VALUES( '1|0004|9070' , '익산모현', 8, '롯데시네마');\n",
      "INSERT INTO branch VALUES( '1|0004|6002' , '전주(백화점)', 8, '롯데시네마');\n",
      "INSERT INTO branch VALUES( '1|0004|6006' , '전주평화', 8, '롯데시네마');\n",
      "INSERT INTO branch VALUES( '1|0004|9047' , '충장로', 8, '롯데시네마');\n",
      "INSERT INTO branch VALUES( '5021' , '광주상무', 8, '메가박스');\n",
      "INSERT INTO branch VALUES( '5061' , '광주하남', 8, '메가박스');\n",
      "INSERT INTO branch VALUES( '5901' , '남원', 8, '메가박스');\n",
      "INSERT INTO branch VALUES( '5302' , '목포하당(포르모)', 8, '메가박스');\n",
      "INSERT INTO branch VALUES( '5612' , '송천', 8, '메가박스');\n",
      "INSERT INTO branch VALUES( '5401' , '순천', 8, '메가박스');\n",
      "INSERT INTO branch VALUES( '5552' , '여수웅천', 8, '메가박스');\n",
      "INSERT INTO branch VALUES( '0010' , '전대(광주)', 8, '메가박스');\n",
      "INSERT INTO branch VALUES( '5064' , '첨단', 8, '메가박스');\n"
     ]
    }
   ],
   "source": [
    "# 광주 전라\n",
    "for i in range(len(gj)):\n",
    "    name = list(gj['name'])[i]\n",
    "    ids = list(gj['id'])[i]\n",
    "    brand = list(gj['brand'])[i]\n",
    "    if brand == 'loci': brand = '롯데시네마'\n",
    "    elif brand == 'mega': brand = '메가박스'\n",
    "    else: brand = 'cgv'\n",
    "    sql = \"INSERT INTO branch VALUES( '\" + ids + \"' , '\" + name + \"', \" + '8' + \", '\"  +brand+ \"');\"\n",
    "    print(sql)\n",
    "    curs.execute(sql)"
   ]
  },
  {
   "cell_type": "code",
   "execution_count": 120,
   "metadata": {
    "collapsed": true,
    "jupyter": {
     "outputs_hidden": true
    }
   },
   "outputs": [
    {
     "name": "stdout",
     "output_type": "stream",
     "text": [
      "INSERT INTO branch VALUES( '0302' , '제주', 9, 'cgv');\n",
      "INSERT INTO branch VALUES( '0259' , '제주노형', 9, 'cgv');\n"
     ]
    },
    {
     "ename": "IntegrityError",
     "evalue": "(1062, \"Duplicate entry '0259' for key 'branch.PRIMARY'\")",
     "output_type": "error",
     "traceback": [
      "\u001b[0;31m---------------------------------------------------------------------------\u001b[0m",
      "\u001b[0;31mIntegrityError\u001b[0m                            Traceback (most recent call last)",
      "\u001b[0;32m<ipython-input-120-6fc060655b13>\u001b[0m in \u001b[0;36m<module>\u001b[0;34m\u001b[0m\n\u001b[1;32m      9\u001b[0m     \u001b[0msql\u001b[0m \u001b[0;34m=\u001b[0m \u001b[0;34m\"INSERT INTO branch VALUES( '\"\u001b[0m \u001b[0;34m+\u001b[0m \u001b[0mids\u001b[0m \u001b[0;34m+\u001b[0m \u001b[0;34m\"' , '\"\u001b[0m \u001b[0;34m+\u001b[0m \u001b[0mname\u001b[0m \u001b[0;34m+\u001b[0m \u001b[0;34m\"', \"\u001b[0m \u001b[0;34m+\u001b[0m \u001b[0;34m'9'\u001b[0m \u001b[0;34m+\u001b[0m \u001b[0;34m\", '\"\u001b[0m  \u001b[0;34m+\u001b[0m\u001b[0mbrand\u001b[0m\u001b[0;34m+\u001b[0m \u001b[0;34m\"');\"\u001b[0m\u001b[0;34m\u001b[0m\u001b[0;34m\u001b[0m\u001b[0m\n\u001b[1;32m     10\u001b[0m     \u001b[0mprint\u001b[0m\u001b[0;34m(\u001b[0m\u001b[0msql\u001b[0m\u001b[0;34m)\u001b[0m\u001b[0;34m\u001b[0m\u001b[0;34m\u001b[0m\u001b[0m\n\u001b[0;32m---> 11\u001b[0;31m     \u001b[0mcurs\u001b[0m\u001b[0;34m.\u001b[0m\u001b[0mexecute\u001b[0m\u001b[0;34m(\u001b[0m\u001b[0msql\u001b[0m\u001b[0;34m)\u001b[0m\u001b[0;34m\u001b[0m\u001b[0;34m\u001b[0m\u001b[0m\n\u001b[0m",
      "\u001b[0;32m/opt/anaconda3/lib/python3.7/site-packages/pymysql/cursors.py\u001b[0m in \u001b[0;36mexecute\u001b[0;34m(self, query, args)\u001b[0m\n\u001b[1;32m    161\u001b[0m         \u001b[0mquery\u001b[0m \u001b[0;34m=\u001b[0m \u001b[0mself\u001b[0m\u001b[0;34m.\u001b[0m\u001b[0mmogrify\u001b[0m\u001b[0;34m(\u001b[0m\u001b[0mquery\u001b[0m\u001b[0;34m,\u001b[0m \u001b[0margs\u001b[0m\u001b[0;34m)\u001b[0m\u001b[0;34m\u001b[0m\u001b[0;34m\u001b[0m\u001b[0m\n\u001b[1;32m    162\u001b[0m \u001b[0;34m\u001b[0m\u001b[0m\n\u001b[0;32m--> 163\u001b[0;31m         \u001b[0mresult\u001b[0m \u001b[0;34m=\u001b[0m \u001b[0mself\u001b[0m\u001b[0;34m.\u001b[0m\u001b[0m_query\u001b[0m\u001b[0;34m(\u001b[0m\u001b[0mquery\u001b[0m\u001b[0;34m)\u001b[0m\u001b[0;34m\u001b[0m\u001b[0;34m\u001b[0m\u001b[0m\n\u001b[0m\u001b[1;32m    164\u001b[0m         \u001b[0mself\u001b[0m\u001b[0;34m.\u001b[0m\u001b[0m_executed\u001b[0m \u001b[0;34m=\u001b[0m \u001b[0mquery\u001b[0m\u001b[0;34m\u001b[0m\u001b[0;34m\u001b[0m\u001b[0m\n\u001b[1;32m    165\u001b[0m         \u001b[0;32mreturn\u001b[0m \u001b[0mresult\u001b[0m\u001b[0;34m\u001b[0m\u001b[0;34m\u001b[0m\u001b[0m\n",
      "\u001b[0;32m/opt/anaconda3/lib/python3.7/site-packages/pymysql/cursors.py\u001b[0m in \u001b[0;36m_query\u001b[0;34m(self, q)\u001b[0m\n\u001b[1;32m    319\u001b[0m         \u001b[0mself\u001b[0m\u001b[0;34m.\u001b[0m\u001b[0m_last_executed\u001b[0m \u001b[0;34m=\u001b[0m \u001b[0mq\u001b[0m\u001b[0;34m\u001b[0m\u001b[0;34m\u001b[0m\u001b[0m\n\u001b[1;32m    320\u001b[0m         \u001b[0mself\u001b[0m\u001b[0;34m.\u001b[0m\u001b[0m_clear_result\u001b[0m\u001b[0;34m(\u001b[0m\u001b[0;34m)\u001b[0m\u001b[0;34m\u001b[0m\u001b[0;34m\u001b[0m\u001b[0m\n\u001b[0;32m--> 321\u001b[0;31m         \u001b[0mconn\u001b[0m\u001b[0;34m.\u001b[0m\u001b[0mquery\u001b[0m\u001b[0;34m(\u001b[0m\u001b[0mq\u001b[0m\u001b[0;34m)\u001b[0m\u001b[0;34m\u001b[0m\u001b[0;34m\u001b[0m\u001b[0m\n\u001b[0m\u001b[1;32m    322\u001b[0m         \u001b[0mself\u001b[0m\u001b[0;34m.\u001b[0m\u001b[0m_do_get_result\u001b[0m\u001b[0;34m(\u001b[0m\u001b[0;34m)\u001b[0m\u001b[0;34m\u001b[0m\u001b[0;34m\u001b[0m\u001b[0m\n\u001b[1;32m    323\u001b[0m         \u001b[0;32mreturn\u001b[0m \u001b[0mself\u001b[0m\u001b[0;34m.\u001b[0m\u001b[0mrowcount\u001b[0m\u001b[0;34m\u001b[0m\u001b[0;34m\u001b[0m\u001b[0m\n",
      "\u001b[0;32m/opt/anaconda3/lib/python3.7/site-packages/pymysql/connections.py\u001b[0m in \u001b[0;36mquery\u001b[0;34m(self, sql, unbuffered)\u001b[0m\n\u001b[1;32m    503\u001b[0m                 \u001b[0msql\u001b[0m \u001b[0;34m=\u001b[0m \u001b[0msql\u001b[0m\u001b[0;34m.\u001b[0m\u001b[0mencode\u001b[0m\u001b[0;34m(\u001b[0m\u001b[0mself\u001b[0m\u001b[0;34m.\u001b[0m\u001b[0mencoding\u001b[0m\u001b[0;34m,\u001b[0m \u001b[0;34m'surrogateescape'\u001b[0m\u001b[0;34m)\u001b[0m\u001b[0;34m\u001b[0m\u001b[0;34m\u001b[0m\u001b[0m\n\u001b[1;32m    504\u001b[0m         \u001b[0mself\u001b[0m\u001b[0;34m.\u001b[0m\u001b[0m_execute_command\u001b[0m\u001b[0;34m(\u001b[0m\u001b[0mCOMMAND\u001b[0m\u001b[0;34m.\u001b[0m\u001b[0mCOM_QUERY\u001b[0m\u001b[0;34m,\u001b[0m \u001b[0msql\u001b[0m\u001b[0;34m)\u001b[0m\u001b[0;34m\u001b[0m\u001b[0;34m\u001b[0m\u001b[0m\n\u001b[0;32m--> 505\u001b[0;31m         \u001b[0mself\u001b[0m\u001b[0;34m.\u001b[0m\u001b[0m_affected_rows\u001b[0m \u001b[0;34m=\u001b[0m \u001b[0mself\u001b[0m\u001b[0;34m.\u001b[0m\u001b[0m_read_query_result\u001b[0m\u001b[0;34m(\u001b[0m\u001b[0munbuffered\u001b[0m\u001b[0;34m=\u001b[0m\u001b[0munbuffered\u001b[0m\u001b[0;34m)\u001b[0m\u001b[0;34m\u001b[0m\u001b[0;34m\u001b[0m\u001b[0m\n\u001b[0m\u001b[1;32m    506\u001b[0m         \u001b[0;32mreturn\u001b[0m \u001b[0mself\u001b[0m\u001b[0;34m.\u001b[0m\u001b[0m_affected_rows\u001b[0m\u001b[0;34m\u001b[0m\u001b[0;34m\u001b[0m\u001b[0m\n\u001b[1;32m    507\u001b[0m \u001b[0;34m\u001b[0m\u001b[0m\n",
      "\u001b[0;32m/opt/anaconda3/lib/python3.7/site-packages/pymysql/connections.py\u001b[0m in \u001b[0;36m_read_query_result\u001b[0;34m(self, unbuffered)\u001b[0m\n\u001b[1;32m    722\u001b[0m         \u001b[0;32melse\u001b[0m\u001b[0;34m:\u001b[0m\u001b[0;34m\u001b[0m\u001b[0;34m\u001b[0m\u001b[0m\n\u001b[1;32m    723\u001b[0m             \u001b[0mresult\u001b[0m \u001b[0;34m=\u001b[0m \u001b[0mMySQLResult\u001b[0m\u001b[0;34m(\u001b[0m\u001b[0mself\u001b[0m\u001b[0;34m)\u001b[0m\u001b[0;34m\u001b[0m\u001b[0;34m\u001b[0m\u001b[0m\n\u001b[0;32m--> 724\u001b[0;31m             \u001b[0mresult\u001b[0m\u001b[0;34m.\u001b[0m\u001b[0mread\u001b[0m\u001b[0;34m(\u001b[0m\u001b[0;34m)\u001b[0m\u001b[0;34m\u001b[0m\u001b[0;34m\u001b[0m\u001b[0m\n\u001b[0m\u001b[1;32m    725\u001b[0m         \u001b[0mself\u001b[0m\u001b[0;34m.\u001b[0m\u001b[0m_result\u001b[0m \u001b[0;34m=\u001b[0m \u001b[0mresult\u001b[0m\u001b[0;34m\u001b[0m\u001b[0;34m\u001b[0m\u001b[0m\n\u001b[1;32m    726\u001b[0m         \u001b[0;32mif\u001b[0m \u001b[0mresult\u001b[0m\u001b[0;34m.\u001b[0m\u001b[0mserver_status\u001b[0m \u001b[0;32mis\u001b[0m \u001b[0;32mnot\u001b[0m \u001b[0;32mNone\u001b[0m\u001b[0;34m:\u001b[0m\u001b[0;34m\u001b[0m\u001b[0;34m\u001b[0m\u001b[0m\n",
      "\u001b[0;32m/opt/anaconda3/lib/python3.7/site-packages/pymysql/connections.py\u001b[0m in \u001b[0;36mread\u001b[0;34m(self)\u001b[0m\n\u001b[1;32m   1067\u001b[0m     \u001b[0;32mdef\u001b[0m \u001b[0mread\u001b[0m\u001b[0;34m(\u001b[0m\u001b[0mself\u001b[0m\u001b[0;34m)\u001b[0m\u001b[0;34m:\u001b[0m\u001b[0;34m\u001b[0m\u001b[0;34m\u001b[0m\u001b[0m\n\u001b[1;32m   1068\u001b[0m         \u001b[0;32mtry\u001b[0m\u001b[0;34m:\u001b[0m\u001b[0;34m\u001b[0m\u001b[0;34m\u001b[0m\u001b[0m\n\u001b[0;32m-> 1069\u001b[0;31m             \u001b[0mfirst_packet\u001b[0m \u001b[0;34m=\u001b[0m \u001b[0mself\u001b[0m\u001b[0;34m.\u001b[0m\u001b[0mconnection\u001b[0m\u001b[0;34m.\u001b[0m\u001b[0m_read_packet\u001b[0m\u001b[0;34m(\u001b[0m\u001b[0;34m)\u001b[0m\u001b[0;34m\u001b[0m\u001b[0;34m\u001b[0m\u001b[0m\n\u001b[0m\u001b[1;32m   1070\u001b[0m \u001b[0;34m\u001b[0m\u001b[0m\n\u001b[1;32m   1071\u001b[0m             \u001b[0;32mif\u001b[0m \u001b[0mfirst_packet\u001b[0m\u001b[0;34m.\u001b[0m\u001b[0mis_ok_packet\u001b[0m\u001b[0;34m(\u001b[0m\u001b[0;34m)\u001b[0m\u001b[0;34m:\u001b[0m\u001b[0;34m\u001b[0m\u001b[0;34m\u001b[0m\u001b[0m\n",
      "\u001b[0;32m/opt/anaconda3/lib/python3.7/site-packages/pymysql/connections.py\u001b[0m in \u001b[0;36m_read_packet\u001b[0;34m(self, packet_type)\u001b[0m\n\u001b[1;32m    674\u001b[0m             \u001b[0;32mif\u001b[0m \u001b[0mself\u001b[0m\u001b[0;34m.\u001b[0m\u001b[0m_result\u001b[0m \u001b[0;32mis\u001b[0m \u001b[0;32mnot\u001b[0m \u001b[0;32mNone\u001b[0m \u001b[0;32mand\u001b[0m \u001b[0mself\u001b[0m\u001b[0;34m.\u001b[0m\u001b[0m_result\u001b[0m\u001b[0;34m.\u001b[0m\u001b[0munbuffered_active\u001b[0m \u001b[0;32mis\u001b[0m \u001b[0;32mTrue\u001b[0m\u001b[0;34m:\u001b[0m\u001b[0;34m\u001b[0m\u001b[0;34m\u001b[0m\u001b[0m\n\u001b[1;32m    675\u001b[0m                 \u001b[0mself\u001b[0m\u001b[0;34m.\u001b[0m\u001b[0m_result\u001b[0m\u001b[0;34m.\u001b[0m\u001b[0munbuffered_active\u001b[0m \u001b[0;34m=\u001b[0m \u001b[0;32mFalse\u001b[0m\u001b[0;34m\u001b[0m\u001b[0;34m\u001b[0m\u001b[0m\n\u001b[0;32m--> 676\u001b[0;31m             \u001b[0mpacket\u001b[0m\u001b[0;34m.\u001b[0m\u001b[0mraise_for_error\u001b[0m\u001b[0;34m(\u001b[0m\u001b[0;34m)\u001b[0m\u001b[0;34m\u001b[0m\u001b[0;34m\u001b[0m\u001b[0m\n\u001b[0m\u001b[1;32m    677\u001b[0m         \u001b[0;32mreturn\u001b[0m \u001b[0mpacket\u001b[0m\u001b[0;34m\u001b[0m\u001b[0;34m\u001b[0m\u001b[0m\n\u001b[1;32m    678\u001b[0m \u001b[0;34m\u001b[0m\u001b[0m\n",
      "\u001b[0;32m/opt/anaconda3/lib/python3.7/site-packages/pymysql/protocol.py\u001b[0m in \u001b[0;36mraise_for_error\u001b[0;34m(self)\u001b[0m\n\u001b[1;32m    221\u001b[0m         \u001b[0merrno\u001b[0m \u001b[0;34m=\u001b[0m \u001b[0mself\u001b[0m\u001b[0;34m.\u001b[0m\u001b[0mread_uint16\u001b[0m\u001b[0;34m(\u001b[0m\u001b[0;34m)\u001b[0m\u001b[0;34m\u001b[0m\u001b[0;34m\u001b[0m\u001b[0m\n\u001b[1;32m    222\u001b[0m         \u001b[0;32mif\u001b[0m \u001b[0mDEBUG\u001b[0m\u001b[0;34m:\u001b[0m \u001b[0mprint\u001b[0m\u001b[0;34m(\u001b[0m\u001b[0;34m\"errno =\"\u001b[0m\u001b[0;34m,\u001b[0m \u001b[0merrno\u001b[0m\u001b[0;34m)\u001b[0m\u001b[0;34m\u001b[0m\u001b[0;34m\u001b[0m\u001b[0m\n\u001b[0;32m--> 223\u001b[0;31m         \u001b[0merr\u001b[0m\u001b[0;34m.\u001b[0m\u001b[0mraise_mysql_exception\u001b[0m\u001b[0;34m(\u001b[0m\u001b[0mself\u001b[0m\u001b[0;34m.\u001b[0m\u001b[0m_data\u001b[0m\u001b[0;34m)\u001b[0m\u001b[0;34m\u001b[0m\u001b[0;34m\u001b[0m\u001b[0m\n\u001b[0m\u001b[1;32m    224\u001b[0m \u001b[0;34m\u001b[0m\u001b[0m\n\u001b[1;32m    225\u001b[0m     \u001b[0;32mdef\u001b[0m \u001b[0mdump\u001b[0m\u001b[0;34m(\u001b[0m\u001b[0mself\u001b[0m\u001b[0;34m)\u001b[0m\u001b[0;34m:\u001b[0m\u001b[0;34m\u001b[0m\u001b[0;34m\u001b[0m\u001b[0m\n",
      "\u001b[0;32m/opt/anaconda3/lib/python3.7/site-packages/pymysql/err.py\u001b[0m in \u001b[0;36mraise_mysql_exception\u001b[0;34m(data)\u001b[0m\n\u001b[1;32m    105\u001b[0m     \u001b[0;32mif\u001b[0m \u001b[0merrorclass\u001b[0m \u001b[0;32mis\u001b[0m \u001b[0;32mNone\u001b[0m\u001b[0;34m:\u001b[0m\u001b[0;34m\u001b[0m\u001b[0;34m\u001b[0m\u001b[0m\n\u001b[1;32m    106\u001b[0m         \u001b[0merrorclass\u001b[0m \u001b[0;34m=\u001b[0m \u001b[0mInternalError\u001b[0m \u001b[0;32mif\u001b[0m \u001b[0merrno\u001b[0m \u001b[0;34m<\u001b[0m \u001b[0;36m1000\u001b[0m \u001b[0;32melse\u001b[0m \u001b[0mOperationalError\u001b[0m\u001b[0;34m\u001b[0m\u001b[0;34m\u001b[0m\u001b[0m\n\u001b[0;32m--> 107\u001b[0;31m     \u001b[0;32mraise\u001b[0m \u001b[0merrorclass\u001b[0m\u001b[0;34m(\u001b[0m\u001b[0merrno\u001b[0m\u001b[0;34m,\u001b[0m \u001b[0merrval\u001b[0m\u001b[0;34m)\u001b[0m\u001b[0;34m\u001b[0m\u001b[0;34m\u001b[0m\u001b[0m\n\u001b[0m",
      "\u001b[0;31mIntegrityError\u001b[0m: (1062, \"Duplicate entry '0259' for key 'branch.PRIMARY'\")"
     ]
    }
   ],
   "source": [
    "# 제주\n",
    "for i in range(len(j)):\n",
    "    name = list(j['name'])[i]\n",
    "    ids = list(j['id'])[i]\n",
    "    brand = list(j['brand'])[i]\n",
    "    if brand == 'loci': brand = '롯데시네마'\n",
    "    elif brand == 'mega': brand = '메가박스'\n",
    "    else: brand = 'cgv'\n",
    "    sql = \"INSERT INTO branch VALUES( '\" + ids + \"' , '\" + name + \"', \" + '9' + \", '\"  +brand+ \"');\"\n",
    "    print(sql)\n",
    "    curs.execute(sql)"
   ]
  },
  {
   "cell_type": "code",
   "execution_count": null,
   "metadata": {},
   "outputs": [],
   "source": []
  },
  {
   "cell_type": "markdown",
   "metadata": {},
   "source": [
    "### 2. 상영관 입력\n",
    "\n",
    "- 각 branch 별로 넣어야 함 \n",
    "- sangyounggwan(sang_id, no, num_of_seats, branch_id)"
   ]
  },
  {
   "cell_type": "code",
   "execution_count": 6,
   "metadata": {},
   "outputs": [],
   "source": [
    "import CrawMovie as cm"
   ]
  },
  {
   "cell_type": "code",
   "execution_count": 121,
   "metadata": {},
   "outputs": [],
   "source": [
    "import datetime\n",
    "now = datetime.datetime.now()\n",
    "date = str(now)[:10]\n",
    "now = str(now)[:10].replace('-','')"
   ]
  },
  {
   "cell_type": "code",
   "execution_count": 123,
   "metadata": {},
   "outputs": [],
   "source": [
    "import requests\n",
    "from bs4 import BeautifulSoup\n",
    "import pandas as pd"
   ]
  },
  {
   "cell_type": "code",
   "execution_count": 104,
   "metadata": {
    "collapsed": true,
    "jupyter": {
     "outputs_hidden": true,
     "source_hidden": true
    }
   },
   "outputs": [
    {
     "ename": "NameError",
     "evalue": "name 'check_available_movie' is not defined",
     "output_type": "error",
     "traceback": [
      "\u001b[0;31m---------------------------------------------------------------------------\u001b[0m",
      "\u001b[0;31mNameError\u001b[0m                                 Traceback (most recent call last)",
      "\u001b[0;32m<ipython-input-104-f0b27c438e12>\u001b[0m in \u001b[0;36m<module>\u001b[0;34m\u001b[0m\n\u001b[0;32m----> 1\u001b[0;31m \u001b[0mcheck_available_movie\u001b[0m\u001b[0;34m(\u001b[0m\u001b[0;34m'건대입구'\u001b[0m\u001b[0;34m,\u001b[0m \u001b[0mnow\u001b[0m\u001b[0;34m)\u001b[0m\u001b[0;34m\u001b[0m\u001b[0;34m\u001b[0m\u001b[0m\n\u001b[0m",
      "\u001b[0;31mNameError\u001b[0m: name 'check_available_movie' is not defined"
     ]
    }
   ],
   "source": [
    "for i in range(len(s)):\n",
    "    name = list(s['name'])[i]\n",
    "    movie_list = check_available_movie(name, now)\n",
    "    for j in range(0,6,2): \n",
    "        brand = movie_list[j][0] # j = 0,2,4 즉 brand name\n",
    "        for movie in movie_list[j+1][0]:\n",
    "            movie_name = movie[0] # 영화 이름 \n",
    "            movie_list.append(movie_name)\n",
    "            for m in movie[1]:\n",
    "                start = m[0] # 시작 시간\n",
    "                seats = m[1] # 잔여 좌석\n",
    "                swg = m[2] #상영관"
   ]
  },
  {
   "cell_type": "code",
   "execution_count": 125,
   "metadata": {
    "collapsed": true,
    "jupyter": {
     "outputs_hidden": true,
     "source_hidden": true
    }
   },
   "outputs": [
    {
     "ename": "KeyError",
     "evalue": "'PlaySeqs'",
     "output_type": "error",
     "traceback": [
      "\u001b[0;31m---------------------------------------------------------------------------\u001b[0m",
      "\u001b[0;31mKeyError\u001b[0m                                  Traceback (most recent call last)",
      "\u001b[0;32m<ipython-input-125-6445a5c89fba>\u001b[0m in \u001b[0;36m<module>\u001b[0;34m\u001b[0m\n\u001b[1;32m     58\u001b[0m \u001b[0;34m\u001b[0m\u001b[0m\n\u001b[1;32m     59\u001b[0m         \u001b[0mresponse\u001b[0m \u001b[0;34m=\u001b[0m \u001b[0mrequests\u001b[0m\u001b[0;34m.\u001b[0m\u001b[0mpost\u001b[0m\u001b[0;34m(\u001b[0m\u001b[0murl\u001b[0m\u001b[0;34m,\u001b[0m \u001b[0mdata\u001b[0m \u001b[0;34m=\u001b[0m \u001b[0;34m{\u001b[0m\u001b[0;34m\"paramList\"\u001b[0m\u001b[0;34m:\u001b[0m \u001b[0mstr\u001b[0m\u001b[0;34m(\u001b[0m\u001b[0mparameters\u001b[0m\u001b[0;34m)\u001b[0m\u001b[0;34m.\u001b[0m\u001b[0mencode\u001b[0m\u001b[0;34m(\u001b[0m\u001b[0;34m)\u001b[0m\u001b[0;34m}\u001b[0m\u001b[0;34m)\u001b[0m\u001b[0;34m.\u001b[0m\u001b[0mjson\u001b[0m\u001b[0;34m(\u001b[0m\u001b[0;34m)\u001b[0m\u001b[0;34m\u001b[0m\u001b[0;34m\u001b[0m\u001b[0m\n\u001b[0;32m---> 60\u001b[0;31m         \u001b[0mmovies_response\u001b[0m \u001b[0;34m=\u001b[0m \u001b[0mresponse\u001b[0m\u001b[0;34m[\u001b[0m\u001b[0;34m'PlaySeqs'\u001b[0m\u001b[0;34m]\u001b[0m\u001b[0;34m[\u001b[0m\u001b[0;34m'Items'\u001b[0m\u001b[0;34m]\u001b[0m\u001b[0;34m\u001b[0m\u001b[0;34m\u001b[0m\u001b[0m\n\u001b[0m\u001b[1;32m     61\u001b[0m         \u001b[0;32mfor\u001b[0m \u001b[0mmovie\u001b[0m \u001b[0;32min\u001b[0m \u001b[0mmovies_response\u001b[0m\u001b[0;34m:\u001b[0m\u001b[0;34m\u001b[0m\u001b[0;34m\u001b[0m\u001b[0m\n\u001b[1;32m     62\u001b[0m             \u001b[0msang_num\u001b[0m \u001b[0;34m=\u001b[0m \u001b[0mmovie\u001b[0m\u001b[0;34m[\u001b[0m\u001b[0;34m'ScreenNameKR'\u001b[0m\u001b[0;34m]\u001b[0m\u001b[0;34m\u001b[0m\u001b[0;34m\u001b[0m\u001b[0m\n",
      "\u001b[0;31mKeyError\u001b[0m: 'PlaySeqs'"
     ]
    }
   ],
   "source": [
    "sang = []\n",
    "movie_list = []\n",
    "\n",
    "for i in range(len(total)):\n",
    "    name = list(total['name'])[i]\n",
    "    branch_id = list(total['id'])[i]\n",
    "    \n",
    "    if list(total['brand'])[i] == 'cgv': \n",
    "        area = list(total['areacode'])[i]\n",
    "        if '%' not in str(area): area = int(area)\n",
    "        cgv_url = \"http://www.cgv.co.kr/common/showtimes/iframeTheater.aspx?areacode=\" + str(area) + \"&theatercode=\"+branch_id+\"&date=\"+date\n",
    "        response = requests.get(cgv_url)\n",
    "        html = response.text\n",
    "        #soup = BeautifulSoup(html)\n",
    "        soup = BeautifulSoup(html,'html.parser')\n",
    "        movies = soup.select('body > div > div.sect-showtimes > ul > li')\n",
    "        for movie in movies:\n",
    "            if movie.select_one('div.info-hall > ul > li:nth-child(3)'):\n",
    "                total_seats = movie.select_one('div.info-hall > ul > li:nth-child(3)').get_text().strip()[-4:]\n",
    "                sang_num = movie.select_one('div.info-hall > ul > li:nth-child(2)').get_text().strip()\n",
    "                info = movie.select_one('div.info-hall > ul > li:nth-child(1)').get_text().strip()\n",
    "                if [sang_num, total_seats] not in sang: sang.append([sang_num, total_seats, 'cgv'])\n",
    "            \n",
    "                age = movie.select_one('div.info-movie > span').get_text().strip()\n",
    "                title = movie.select_one('div > div.info-movie > a > strong').get_text().strip()\n",
    "                if [title, age] not in movie_list: movie_list.append([title, age])\n",
    "                \n",
    "    if list(total['brand'])[i] == 'mega': \n",
    "        url = \"https://www.megabox.co.kr/on/oh/ohc/Brch/schedulePage.do\"\n",
    "        parameters = {\"masterType\":\"brch\",\n",
    "              \"detailType\":\"area\",\n",
    "              \"brchNo\": branch_id,\n",
    "              \"firstAt\":\"N\",\n",
    "              \"brchNo1\": branch_id, # branch number: 강남 \n",
    "              \"crtDe\": now,\n",
    "              \"playDe\":now} # 상영 날짜 \n",
    "        response = requests.post(url, data = parameters).json()\n",
    "        movie_response = response['megaMap']['movieFormList']\n",
    "        for movie in movie_response:\n",
    "            sang_num = movie['theabExpoNm'] # 상영관 정보\n",
    "            total_seats = movie['theabSeatCnt'] # 총 좌석수\n",
    "            info = '2D'\n",
    "            if sang_num not in sang: sang.append([sang_num, info, total_seats])\n",
    "                \n",
    "            title = movie['movieNm']\n",
    "            age = movie['admisClassCdNm']\n",
    "            if [title, age] not in movie_list: movie_list.append([title, age])\n",
    "        \n",
    "    if list(total['brand'])[i] == 'loci': \n",
    "        url = 'http://lottecinema.co.kr/LCWS/Ticketing/TicketingData.aspx'\n",
    "        parameters =  {\"MethodName\":\"GetPlaySequence\",\n",
    "               \"channelType\":\"HO\",\n",
    "               \"osType\":\"W\",\n",
    "               \"osVersion\":\"Mozilla/5.0 (Windows NT 10.0; Win64; x64) AppleWebKit/537.36 (KHTML, like Gecko) Chrome/80.0.3987.87 Safari/537.36\",\n",
    "               \"playDate\": date, # 날짜\n",
    "               \"cinemaID\": branch_id, # 상영관 id\n",
    "               \"representationMovieCode\":\"\"}\n",
    "\n",
    "        response = requests.post(url, data = {\"paramList\": str(parameters).encode()}).json()\n",
    "        movies_response = response['PlaySeqs']['Items']\n",
    "        for movie in movies_response:\n",
    "            sang_num = movie['ScreenNameKR']\n",
    "            info = movie['FilmNameKR']\n",
    "            total_seats = '총 ' +str(movie['TotalSeatCount'])+'석'\n",
    "            if sang_num not in sang: sang.append([sang_num, info, total_seats])\n",
    "        \n",
    "            title = movie['MovieNameKR']\n",
    "            age = movie['ViewGradeNameKR']+'세'\n",
    "            if [title, age] not in movie_list: movie_list.append([title, age])"
   ]
  },
  {
   "cell_type": "code",
   "execution_count": null,
   "metadata": {},
   "outputs": [],
   "source": [
    "for s in sang:\n",
    "    name, nums, branch_id = s\n",
    "    sql = 'INSERT INTO sangyounggwan VALUES (' + name + \" , \" + nums + \" , \" + branch_id + \" )\" \n",
    "    print(sql)\n",
    "    #curs.excute(sql)"
   ]
  },
  {
   "cell_type": "markdown",
   "metadata": {},
   "source": [
    "### 3. 시간표에 정보 저장\n",
    "\n",
    "- time_table(time_table_id, date_time , left_seats , sang_id)\n",
    "- 상영관별로 넣어야 함\n",
    "\n",
    "** price 빼기\n",
    "** id 자동으로 "
   ]
  },
  {
   "cell_type": "code",
   "execution_count": null,
   "metadata": {},
   "outputs": [],
   "source": [
    "sang_id = #상영관 id\n",
    "sql = \"INSERT INTO time_table VALUES( \" +  + now + \",\" + seats +\",\" + sang_id + \");\"\n",
    "print(sql)\n",
    "#curs.execute(sql)"
   ]
  },
  {
   "cell_type": "markdown",
   "metadata": {},
   "source": [
    "### 4. 영화 정보 저장\n",
    "- movie(title, info ,age_grade , genre, running_time,director, cast, company)\n",
    "- 제목이 not null\n",
    "\n",
    "** id 자동으로 "
   ]
  },
  {
   "cell_type": "code",
   "execution_count": 38,
   "metadata": {
    "collapsed": true,
    "jupyter": {
     "outputs_hidden": true
    }
   },
   "outputs": [
    {
     "name": "stdout",
     "output_type": "stream",
     "text": [
      "INSERT INTO movie VALUES( 테넷 , 12세 이상);\n",
      "INSERT INTO movie VALUES( 다만 악에서 구하소서 , 15세 이상);\n",
      "INSERT INTO movie VALUES( 브링 더 소울-더 무비 , 전체);\n",
      "INSERT INTO movie VALUES( 오케이 마담 , 15세 이상);\n",
      "INSERT INTO movie VALUES( 시크릿 가든 , 전체);\n",
      "INSERT INTO movie VALUES( 남매의 여름밤 , 전체);\n",
      "INSERT INTO movie VALUES( 극장판 짱구는 못말려-신혼여행 허리케인~ 사라진 아빠! , 전체);\n",
      "INSERT INTO movie VALUES( 후쿠오카 , 15세 이상);\n",
      "INSERT INTO movie VALUES( 사랑이 눈뜰 때 , 12세 이상);\n",
      "INSERT INTO movie VALUES( 69세 , 15세 이상);\n",
      "INSERT INTO movie VALUES( 리메인 , 청소년 관람불가);\n",
      "INSERT INTO movie VALUES( (월간뮤지컬)톡식 어벤져 , 15세 이상);\n",
      "INSERT INTO movie VALUES( 캐리비안 해적과 마법 다이아몬드 , 전체);\n",
      "INSERT INTO movie VALUES( 이별식당 , 12세 이상);\n",
      "INSERT INTO movie VALUES( 반교-디텐션 , 15세 이상);\n",
      "INSERT INTO movie VALUES( 부다페스트 스토리 , 15세 이상);\n",
      "INSERT INTO movie VALUES( 개와 고양이를 위한 시간 , 전체);\n",
      "INSERT INTO movie VALUES( 여름날 , 전체);\n",
      "INSERT INTO movie VALUES( 셰이프 오브 뮤직-알렉상드르 데스플라 , 전체);\n",
      "INSERT INTO movie VALUES( 동아시아반일무장전선 , 15세 이상);\n",
      "INSERT INTO movie VALUES( 강철비2-정상회담 , 15세 이상);\n",
      "INSERT INTO movie VALUES( 반도 , 15세 이상);\n",
      "INSERT INTO movie VALUES( 메멘토 , 15세 이상);\n",
      "INSERT INTO movie VALUES( 애니멀 크래커 , 전체);\n",
      "INSERT INTO movie VALUES( 극장판 짱구는 못말려: 신혼여행 허리케인~ 사라진 아빠! , 전체세);\n",
      "INSERT INTO movie VALUES( 나의 소녀시대 , 15세);\n",
      "INSERT INTO movie VALUES( 강철비2: 정상회담 , 15세);\n",
      "INSERT INTO movie VALUES( 반교: 디텐션 , 15세);\n",
      "INSERT INTO movie VALUES( 패왕별희 디 오리지널 , 15세);\n",
      "INSERT INTO movie VALUES( 워터 릴리스 , 15세);\n",
      "INSERT INTO movie VALUES( 셰이프 오브 뮤직: 알렉상드르 데스플라 , 전체세);\n",
      "INSERT INTO movie VALUES( 극장판 시로바코 , 12세이상관람가);\n",
      "INSERT INTO movie VALUES( 존 윅 - 리로드 , 청소년관람불가);\n",
      "INSERT INTO movie VALUES( 트로이 디렉터스 컷 , 청소년관람불가);\n",
      "INSERT INTO movie VALUES( 킹 오브 프리즘 올 스타즈 -프리즘 쇼☆베스트10- , 12세이상관람가);\n",
      "INSERT INTO movie VALUES( 인셉션 , 12세이상관람가);\n",
      "INSERT INTO movie VALUES( 어서오시게스트하우스 , 15세이상관람가);\n",
      "INSERT INTO movie VALUES( 야구소녀 , 12세 이상);\n",
      "INSERT INTO movie VALUES( 애프터 웨딩 인 뉴욕 , 12세 이상);\n",
      "INSERT INTO movie VALUES( 나는보리 , 전체);\n",
      "INSERT INTO movie VALUES( 더 프린세스-도둑맞은 공주 , 전체);\n",
      "INSERT INTO movie VALUES( 찬실이는 복도 많지 , 전체);\n",
      "INSERT INTO movie VALUES( 우산을 안 가지고 와서 , 미정);\n",
      "INSERT INTO movie VALUES( 안녕 내 사랑 , 미정);\n",
      "INSERT INTO movie VALUES( 파란 불이 들어오면 , 미정);\n",
      "INSERT INTO movie VALUES( 더 프린세스 : 도둑맞은 공주 , 전체관람가);\n",
      "INSERT INTO movie VALUES( 쉘부르의 우산 , 12세이상관람가);\n",
      "INSERT INTO movie VALUES( 성혜의 나라 , 12세이상관람가);\n",
      "INSERT INTO movie VALUES( 죽도 서핑 다이어리 , 12세이상관람가);\n",
      "INSERT INTO movie VALUES( 치어리딩 클럽 , 12세 이상);\n",
      "INSERT INTO movie VALUES( 윤희에게 , 12세 이상);\n",
      "INSERT INTO movie VALUES( 큐리오사 , 청불세);\n",
      "INSERT INTO movie VALUES( 오! 문희 , 12세이상관람가);\n",
      "INSERT INTO movie VALUES( 빅샤크3: 젤리몬스터 대소동 , 전체관람가);\n",
      "INSERT INTO movie VALUES( 엘라 벨라 빙고: 친구 찾기 대작전 , 전체관람가);\n",
      "INSERT INTO movie VALUES( 그리고 가을이 왔다 , 미정);\n"
     ]
    }
   ],
   "source": [
    "temp = []\n",
    "for movie in movie_list:\n",
    "    title, age = movie\n",
    "    if title not in temp:\n",
    "        if 'F' not in title:\n",
    "            sql = \"INSERT INTO movie VALUES( \" + title + \" , \" + age + \");\"\n",
    "            temp.append(title)\n",
    "            print(sql)\n",
    "    #curs.execute(sql)"
   ]
  },
  {
   "cell_type": "code",
   "execution_count": null,
   "metadata": {},
   "outputs": [],
   "source": []
  }
 ],
 "metadata": {
  "kernelspec": {
   "display_name": "Python 3",
   "language": "python",
   "name": "python3"
  },
  "language_info": {
   "codemirror_mode": {
    "name": "ipython",
    "version": 3
   },
   "file_extension": ".py",
   "mimetype": "text/x-python",
   "name": "python",
   "nbconvert_exporter": "python",
   "pygments_lexer": "ipython3",
   "version": "3.7.6"
  }
 },
 "nbformat": 4,
 "nbformat_minor": 4
}
