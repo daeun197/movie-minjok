{
 "cells": [
  {
   "cell_type": "markdown",
   "metadata": {},
   "source": [
    "### branch id가 필요함!! 모두 따와서 table로 만들어버리자 \n",
    "- 일단은 seoul 만 진행하기로 "
   ]
  },
  {
   "cell_type": "markdown",
   "metadata": {},
   "source": [
    "## 1. CGV\n",
    "\n",
    "- GET 형식이라, url에 id가 노출되어있음"
   ]
  },
  {
   "cell_type": "code",
   "execution_count": 43,
   "metadata": {},
   "outputs": [],
   "source": [
    "cgv = [ [] for i in range(9) ]\n",
    "\n",
    "# 각각 서울(31), 경기(50), 인천(11), 강원(4), 대전/충청(20), 대구(8), 부산/울산(15), 경상(15), 광주/전라/제주(23)"
   ]
  },
  {
   "cell_type": "code",
   "execution_count": 17,
   "metadata": {},
   "outputs": [],
   "source": [
    "# areacode: 각각 서울(31), 경기(50), 인천(11), 강원(4), 대전/충청(20), 대구(8), 부산/울산(15), 경상(15), 광주/전라/제주(23)\n",
    "area = [1,2,202,12,[3,205],11,[5,207],204,[206,4,6]]"
   ]
  },
  {
   "cell_type": "code",
   "execution_count": 44,
   "metadata": {},
   "outputs": [],
   "source": [
    "cgv[0].append(['0056', '강남'])\n",
    "cgv[0].append(['0001', '강변'])\n",
    "cgv[0].append(['0229', '건대입구'])\n",
    "cgv[0].append(['0010', '구로'])\n",
    "cgv[0].append(['0063', '대학로'])\n",
    "cgv[0].append(['0056', '강남'])\n",
    "cgv[0].append(['0252', '동대문'])\n",
    "cgv[0].append(['0230', '등촌'])\n",
    "cgv[0].append(['0009', '명동'])\n",
    "cgv[0].append(['0105', '명동역 씨네라이브러리'])\n",
    "cgv[0].append(['0011', '목동'])\n",
    "cgv[0].append(['0057', '미아'])\n",
    "cgv[0].append(['0030', '불광'])\n",
    "cgv[0].append(['0046', '상봉'])\n",
    "cgv[0].append(['0200', '성신여대입구'])\n",
    "cgv[0].append(['0088', '송파'])\n",
    "cgv[0].append(['0276', '수유'])\n",
    "cgv[0].append(['0150', '신촌아트레온'])\n",
    "cgv[0].append(['0040', '압구정'])\n",
    "cgv[0].append(['0112', '여의도'])\n",
    "cgv[0].append(['0059', '영등포'])\n",
    "cgv[0].append(['0074', '왕십리'])\n",
    "cgv[0].append(['0013', '용산아이파크'])\n",
    "cgv[0].append(['0131', '중계'])\n",
    "cgv[0].append(['0199', '천호'])\n",
    "cgv[0].append(['0107', '청담시네시티'])\n",
    "cgv[0].append(['0223', '피카다리1958'])\n",
    "cgv[0].append(['0164', '하계'])\n",
    "cgv[0].append(['0191', '홍대'])\n",
    "\n",
    "# 씨네드쉐프 압구정, 씨네드쉐프 용산아이파크몰 제함"
   ]
  },
  {
   "cell_type": "code",
   "execution_count": 47,
   "metadata": {},
   "outputs": [],
   "source": [
    "for i in range(len(cgv[0])):\n",
    "    cgv[0][i][0], cgv[0][i][1] = cgv[0][i][1], cgv[0][i][0]"
   ]
  },
  {
   "cell_type": "markdown",
   "metadata": {},
   "source": [
    "## 2. lottecinema\n",
    "- POST 방식이라 하나하나 찾아봐야 함\n",
    "- *또는 GET 방식?* : https://www.lottecinema.co.kr/NLCHS/Cinema/Detail?divisionCode=1&detailDivisionCode=1&cinemaID=1013"
   ]
  },
  {
   "cell_type": "code",
   "execution_count": 23,
   "metadata": {},
   "outputs": [],
   "source": [
    "loci = [ [] for i in range(8) ]\n",
    "# 서울, 경기/인천, 충청/대전, 전라/광주, 경북/대구, 경남/부산/울산, 강원, 제주"
   ]
  },
  {
   "cell_type": "code",
   "execution_count": 27,
   "metadata": {},
   "outputs": [],
   "source": [
    "loci[0] = [['가산디지털', '1|0001|1013'],\n",
    "['가양', '1|0001|1018'],\n",
    "['강동', '1|0001|9010'],\n",
    "['건대입구', '1|0001|1004'],\n",
    "['김포공항', '1|0001|1009'],\n",
    "['노원', '1|0001|1003'],\n",
    "['도곡', '1|0001|1023'],\n",
    "['독산', '1|0001|1017'],\n",
    "['브로드웨이(신사)', '1|0001|9056'],\n",
    "['서울대입구', '1|0001|1012'],\n",
    "['수락산', '1|0001|1019'],\n",
    "['수유', '1|0001|1022'],\n",
    "['신도림', '1|0001|1015'],\n",
    "['신림', '1|0001|1007'],\n",
    "['에비뉴엘(명동)', '1|0001|1001'],\n",
    "['영등포', '1|0001|1002'],\n",
    "['은평(롯데몰)', '1|0001|1021'],\n",
    "['용산', '1|0001|1014'],\n",
    "['월드타워', '1|0001|1016'],\n",
    "['장안', '1|0001|9053'],\n",
    "['중랑', '1|0001|9083'],\n",
    "['청량리', '1|0001|1008'],\n",
    "['합정', '1|0001|1010'],\n",
    "['홍대입구', '1|0001|1005'],\n",
    "['황학', '1|0001|1011']]"
   ]
  },
  {
   "cell_type": "markdown",
   "metadata": {},
   "source": [
    "## 3. 메가박스\n",
    "\n",
    "- POST 방식"
   ]
  },
  {
   "cell_type": "code",
   "execution_count": 29,
   "metadata": {},
   "outputs": [],
   "source": [
    "mega = [ [] for i in range(8) ]\n",
    "# 서울(20),경기(26),인천(6),대전/충청/세종(15),부산/대구/경상(24),광주/전라(9),강원(4),제주(1)"
   ]
  },
  {
   "cell_type": "code",
   "execution_count": 30,
   "metadata": {},
   "outputs": [],
   "source": [
    "mega[0] = [\n",
    "['강남', 1372],\n",
    "['강남대로(씨티)', 1359],\n",
    "['강동', 1341],\n",
    "['군자', 1431],\n",
    "['동대문',1003],\n",
    "['마곡', 1572],\n",
    "['목동', 1581],\n",
    "['상봉', 1311],\n",
    "['상암월드컵경기장', 1211],\n",
    "['성수', 1331],\n",
    "['센트럴', 1371],\n",
    "['송파파크하비오', 1381],\n",
    "['신촌', 1202],\n",
    "['은평', 1221],\n",
    "['이수', 1561],\n",
    "['창동', 1321],\n",
    "['코엑스', 1351],\n",
    "['홍대', 1212],\n",
    "['화곡', 1571],\n",
    "['ARTNINE', 1562],\n",
    "]"
   ]
  },
  {
   "cell_type": "markdown",
   "metadata": {},
   "source": [
    "## 4. merge data"
   ]
  },
  {
   "cell_type": "code",
   "execution_count": 49,
   "metadata": {},
   "outputs": [
    {
     "name": "stdout",
     "output_type": "stream",
     "text": [
      "29\n",
      "25\n",
      "20\n"
     ]
    }
   ],
   "source": [
    "print(len(cgv[0]))\n",
    "print(len(loci[0]))\n",
    "print(len(mega[0]))"
   ]
  },
  {
   "cell_type": "code",
   "execution_count": 53,
   "metadata": {},
   "outputs": [],
   "source": [
    "temp = cgv[0]+loci[0]+mega[0]"
   ]
  },
  {
   "cell_type": "code",
   "execution_count": 58,
   "metadata": {},
   "outputs": [],
   "source": [
    "names = []\n",
    "for t in temp:\n",
    "    if t[0] not in names:\n",
    "        names.append(t[0])\n",
    "names.sort()"
   ]
  },
  {
   "cell_type": "code",
   "execution_count": 60,
   "metadata": {},
   "outputs": [],
   "source": [
    "del(temp)"
   ]
  },
  {
   "cell_type": "code",
   "execution_count": 61,
   "metadata": {},
   "outputs": [
    {
     "name": "stdout",
     "output_type": "stream",
     "text": [
      "64\n"
     ]
    }
   ],
   "source": [
    "print(len(names))"
   ]
  },
  {
   "cell_type": "code",
   "execution_count": 204,
   "metadata": {},
   "outputs": [],
   "source": [
    "seoul = []\n",
    "for i in range(len(names)):\n",
    "    temp = [names[i]]\n",
    "    for c in cgv[0]:\n",
    "        if c[0] == names[i]:\n",
    "            temp.append(['cgv', c[1]])\n",
    "    for l in loci[0]:\n",
    "        if l[0] == names[i]:\n",
    "            temp.append(['lotte', l[1]])\n",
    "    for m in mega[0]:\n",
    "        if m[0] == names[i]:\n",
    "            temp.append(['mega', m[1]])\n",
    "    seoul.append(temp)"
   ]
  },
  {
   "cell_type": "code",
   "execution_count": 205,
   "metadata": {
    "collapsed": true,
    "jupyter": {
     "outputs_hidden": true
    }
   },
   "outputs": [
    {
     "data": {
      "text/plain": [
       "[['ARTNINE', ['mega', 1562]],\n",
       " ['가산디지털', ['lotte', '1|0001|1013']],\n",
       " ['가양', ['lotte', '1|0001|1018']],\n",
       " ['강남', ['cgv', '0056'], ['cgv', '0056'], ['mega', 1372]],\n",
       " ['강남대로(씨티)', ['mega', 1359]],\n",
       " ['강동', ['lotte', '1|0001|9010'], ['mega', 1341]],\n",
       " ['강변', ['cgv', '0001']],\n",
       " ['건대입구', ['cgv', '0229'], ['lotte', '1|0001|1004']],\n",
       " ['구로', ['cgv', '0010']],\n",
       " ['군자', ['mega', 1431]],\n",
       " ['김포공항', ['lotte', '1|0001|1009']],\n",
       " ['노원', ['lotte', '1|0001|1003']],\n",
       " ['대학로', ['cgv', '0063']],\n",
       " ['도곡', ['lotte', '1|0001|1023']],\n",
       " ['독산', ['lotte', '1|0001|1017']],\n",
       " ['동대문', ['cgv', '0252'], ['mega', 1003]],\n",
       " ['등촌', ['cgv', '0230']],\n",
       " ['마곡', ['mega', 1572]],\n",
       " ['명동', ['cgv', '0009']],\n",
       " ['명동역 씨네라이브러리', ['cgv', '0105']],\n",
       " ['목동', ['cgv', '0011'], ['mega', 1581]],\n",
       " ['미아', ['cgv', '0057']],\n",
       " ['불광', ['cgv', '0030']],\n",
       " ['브로드웨이(신사)', ['lotte', '1|0001|9056']],\n",
       " ['상봉', ['cgv', '0046'], ['mega', 1311]],\n",
       " ['상암월드컵경기장', ['mega', 1211]],\n",
       " ['서울대입구', ['lotte', '1|0001|1012']],\n",
       " ['성수', ['mega', 1331]],\n",
       " ['성신여대입구', ['cgv', '0200']],\n",
       " ['센트럴', ['mega', 1371]],\n",
       " ['송파', ['cgv', '0088']],\n",
       " ['송파파크하비오', ['mega', 1381]],\n",
       " ['수락산', ['lotte', '1|0001|1019']],\n",
       " ['수유', ['cgv', '0276'], ['lotte', '1|0001|1022']],\n",
       " ['신도림', ['lotte', '1|0001|1015']],\n",
       " ['신림', ['lotte', '1|0001|1007']],\n",
       " ['신촌', ['mega', 1202]],\n",
       " ['신촌아트레온', ['cgv', '0150']],\n",
       " ['압구정', ['cgv', '0040']],\n",
       " ['에비뉴엘(명동)', ['lotte', '1|0001|1001']],\n",
       " ['여의도', ['cgv', '0112']],\n",
       " ['영등포', ['cgv', '0059'], ['lotte', '1|0001|1002']],\n",
       " ['왕십리', ['cgv', '0074']],\n",
       " ['용산', ['lotte', '1|0001|1014']],\n",
       " ['용산아이파크', ['cgv', '0013']],\n",
       " ['월드타워', ['lotte', '1|0001|1016']],\n",
       " ['은평', ['mega', 1221]],\n",
       " ['은평(롯데몰)', ['lotte', '1|0001|1021']],\n",
       " ['이수', ['mega', 1561]],\n",
       " ['장안', ['lotte', '1|0001|9053']],\n",
       " ['중계', ['cgv', '0131']],\n",
       " ['중랑', ['lotte', '1|0001|9083']],\n",
       " ['창동', ['mega', 1321]],\n",
       " ['천호', ['cgv', '0199']],\n",
       " ['청담시네시티', ['cgv', '0107']],\n",
       " ['청량리', ['lotte', '1|0001|1008']],\n",
       " ['코엑스', ['mega', 1351]],\n",
       " ['피카다리1958', ['cgv', '0223']],\n",
       " ['하계', ['cgv', '0164']],\n",
       " ['합정', ['lotte', '1|0001|1010']],\n",
       " ['홍대', ['cgv', '0191'], ['mega', 1212]],\n",
       " ['홍대입구', ['lotte', '1|0001|1005']],\n",
       " ['화곡', ['mega', 1571]],\n",
       " ['황학', ['lotte', '1|0001|1011']]]"
      ]
     },
     "execution_count": 205,
     "metadata": {},
     "output_type": "execute_result"
    }
   ],
   "source": [
    "seoul"
   ]
  },
  {
   "cell_type": "markdown",
   "metadata": {},
   "source": [
    "## 5. 크롤링 시작"
   ]
  },
  {
   "cell_type": "code",
   "execution_count": 79,
   "metadata": {},
   "outputs": [],
   "source": [
    "import datetime\n",
    "now = datetime.datetime.now()\n",
    "date = str(now)[:10]\n",
    "now = str(now)[:10].replace('-','')"
   ]
  },
  {
   "cell_type": "code",
   "execution_count": 84,
   "metadata": {},
   "outputs": [],
   "source": [
    "import requests\n",
    "from bs4 import BeautifulSoup"
   ]
  },
  {
   "cell_type": "markdown",
   "metadata": {},
   "source": [
    "### 1) CGV"
   ]
  },
  {
   "cell_type": "code",
   "execution_count": 82,
   "metadata": {},
   "outputs": [],
   "source": [
    "theater = cgv[0][0][1]"
   ]
  },
  {
   "cell_type": "code",
   "execution_count": 290,
   "metadata": {},
   "outputs": [],
   "source": [
    "cgv_url = \"http://www.cgv.co.kr/common/showtimes/iframeTheater.aspx?areacode=01&theatercode=\"+theater+\"&date=\"+now\n",
    "response = requests.get(cgv_url)\n",
    "html = response.text\n",
    "soup = BeautifulSoup(html)"
   ]
  },
  {
   "cell_type": "code",
   "execution_count": 291,
   "metadata": {},
   "outputs": [],
   "source": [
    "soup = BeautifulSoup(html,'html.parser')\n",
    "movies = soup.select('body > div > div.sect-showtimes > ul > li')"
   ]
  },
  {
   "cell_type": "code",
   "execution_count": null,
   "metadata": {},
   "outputs": [],
   "source": [
    "body > div > div.sect-showtimes > ul > li:nth-child(1) > div > div:nth-child(2) > div.info-hall > ul > li:nth-child(2)"
   ]
  },
  {
   "cell_type": "code",
   "execution_count": 321,
   "metadata": {},
   "outputs": [
    {
     "data": {
      "text/plain": [
       "'3관 8층'"
      ]
     },
     "execution_count": 321,
     "metadata": {},
     "output_type": "execute_result"
    }
   ],
   "source": [
    "movies[0].select_one('div > div.info-hall > ul > li:nth-child(2)').get_text().strip()"
   ]
  },
  {
   "cell_type": "code",
   "execution_count": 87,
   "metadata": {},
   "outputs": [],
   "source": [
    "on_movie = []\n",
    "for movie in movies:\n",
    "    title = movie.select_one('div > div.info-movie > a > strong').get_text().strip()\n",
    "    on_movie.append(title)"
   ]
  },
  {
   "cell_type": "code",
   "execution_count": 88,
   "metadata": {
    "collapsed": true,
    "jupyter": {
     "outputs_hidden": true
    }
   },
   "outputs": [
    {
     "data": {
      "text/plain": [
       "['다만 악에서 구하소서', '오케이 마담', '메멘토', '남매의 여름밤', '시크릿 가든', '링', '착신아리']"
      ]
     },
     "execution_count": 88,
     "metadata": {},
     "output_type": "execute_result"
    }
   ],
   "source": [
    "on_movie"
   ]
  },
  {
   "cell_type": "code",
   "execution_count": 329,
   "metadata": {},
   "outputs": [],
   "source": [
    "def cgv_get_timetable(movie):\n",
    "    tuples = []\n",
    "    timetables = movie.select('div > div.type-hall > div.info-timetable > ul > li')\n",
    "    for timetable in timetables:\n",
    "        #print(type(timetable))\n",
    "        #print(type(timetable.select_one('a > em')))\n",
    "        #print(type(timetable.select_one('a > span')))\n",
    "        if timetable.select_one('a > em') is not None:\n",
    "            time = timetable.select_one('a > em').get_text()\n",
    "            seat = timetable.select_one('a > span').get_text()\n",
    "            num = movie.select_one('div > div.info-hall > ul > li:nth-child(2)').get_text().strip()\n",
    "            tuple = (time, seat, num)\n",
    "            tuples.append(tuple)\n",
    "    return tuples"
   ]
  },
  {
   "cell_type": "code",
   "execution_count": 330,
   "metadata": {
    "collapsed": true,
    "jupyter": {
     "outputs_hidden": true
    }
   },
   "outputs": [
    {
     "data": {
      "text/plain": [
       "[['다만 악에서 구하소서',\n",
       "  [('17:55', '잔여좌석84석', '3관 8층'),\n",
       "   ('20:10', '잔여좌석87석', '3관 8층'),\n",
       "   ('22:25', '잔여좌석92석', '3관 8층'),\n",
       "   ('16:35', '잔여좌석84석', '3관 8층'),\n",
       "   ('18:50', '잔여좌석87석', '3관 8층'),\n",
       "   ('21:05', '잔여좌석84석', '3관 8층'),\n",
       "   ('23:20', '잔여좌석92석', '3관 8층'),\n",
       "   ('17:15', '잔여좌석86석', '3관 8층'),\n",
       "   ('19:30', '잔여좌석75석', '3관 8층'),\n",
       "   ('21:45', '잔여좌석84석', '3관 8층')]],\n",
       " ['오케이 마담',\n",
       "  [('16:05', '잔여좌석66석', '6관(Laser) 10층'),\n",
       "   ('18:10', '잔여좌석69석', '6관(Laser) 10층'),\n",
       "   ('20:15', '잔여좌석67석', '6관(Laser) 10층'),\n",
       "   ('22:20', '잔여좌석69석', '6관(Laser) 10층'),\n",
       "   ('17:05', '잔여좌석63석', '6관(Laser) 10층'),\n",
       "   ('19:10', '잔여좌석63석', '6관(Laser) 10층'),\n",
       "   ('21:15', '잔여좌석65석', '6관(Laser) 10층'),\n",
       "   ('23:20', '잔여좌석65석', '6관(Laser) 10층')]],\n",
       " ['메멘토', [('16:35', '잔여좌석49석', '4관 8층')]],\n",
       " ['시크릿 가든', [('18:55', '잔여좌석66석', '4관 8층')]],\n",
       " ['링', [('23:20', '잔여좌석69석', '4관 8층')]],\n",
       " ['착신아리', [('21:00', '잔여좌석67석', '4관 8층')]]]"
      ]
     },
     "execution_count": 330,
     "metadata": {},
     "output_type": "execute_result"
    }
   ],
   "source": [
    "cgv_tables = []\n",
    "for movie in movies:\n",
    "    title = movie.select_one('div > div.info-movie > a > strong').get_text().strip()\n",
    "    timetable = cgv_get_timetable(movie)\n",
    "    #num = movie.select_one('div > div.info-hall > ul > li:nth-child(2)').get_text().strip()\n",
    "    cgv_tables.append([title, timetable])\n",
    "cgv_tables"
   ]
  },
  {
   "cell_type": "code",
   "execution_count": 125,
   "metadata": {
    "collapsed": true,
    "jupyter": {
     "outputs_hidden": true
    }
   },
   "outputs": [
    {
     "data": {
      "text/plain": [
       "[['강남', '0056'],\n",
       " ['강변', '0001'],\n",
       " ['건대입구', '0229'],\n",
       " ['구로', '0010'],\n",
       " ['대학로', '0063'],\n",
       " ['강남', '0056'],\n",
       " ['동대문', '0252'],\n",
       " ['등촌', '0230'],\n",
       " ['명동', '0009'],\n",
       " ['명동역 씨네라이브러리', '0105'],\n",
       " ['목동', '0011'],\n",
       " ['미아', '0057'],\n",
       " ['불광', '0030'],\n",
       " ['상봉', '0046'],\n",
       " ['성신여대입구', '0200'],\n",
       " ['송파', '0088'],\n",
       " ['수유', '0276'],\n",
       " ['신촌아트레온', '0150'],\n",
       " ['압구정', '0040'],\n",
       " ['여의도', '0112'],\n",
       " ['영등포', '0059'],\n",
       " ['왕십리', '0074'],\n",
       " ['용산아이파크', '0013'],\n",
       " ['중계', '0131'],\n",
       " ['천호', '0199'],\n",
       " ['청담시네시티', '0107'],\n",
       " ['피카다리1958', '0223'],\n",
       " ['하계', '0164'],\n",
       " ['홍대', '0191']]"
      ]
     },
     "execution_count": 125,
     "metadata": {},
     "output_type": "execute_result"
    }
   ],
   "source": [
    "cgv[0]"
   ]
  },
  {
   "cell_type": "code",
   "execution_count": 331,
   "metadata": {},
   "outputs": [],
   "source": [
    "def cgv_find_id(city):\n",
    "    for c in cgv[0]:\n",
    "        if city == c[0]:\n",
    "            return c[1]\n",
    "    return None"
   ]
  },
  {
   "cell_type": "code",
   "execution_count": 360,
   "metadata": {},
   "outputs": [],
   "source": [
    "def craw_cgv(city, date, moviename = 'All'):\n",
    "    '''\n",
    "    input: '강남', '20200824'\n",
    "    output: timetable of cgv\n",
    "    '''\n",
    "    theater = cgv_find_id(city)\n",
    "    if not theater: return []\n",
    "    cgv_url = \"http://www.cgv.co.kr/common/showtimes/iframeTheater.aspx?areacode=01&theatercode=\"+theater+\"&date=\"+date\n",
    "    response = requests.get(cgv_url)\n",
    "    html = response.text\n",
    "    soup = BeautifulSoup(html)\n",
    "    soup = BeautifulSoup(html,'html.parser')\n",
    "    movies = soup.select('body > div > div.sect-showtimes > ul > li')\n",
    "    cgv_tables = []\n",
    "    for movie in movies:\n",
    "        title = movie.select_one('div > div.info-movie > a > strong').get_text().strip()\n",
    "        timetable = cgv_get_timetable(movie)\n",
    "        cgv_tables.append([title, timetable])\n",
    "    if moviename == 'All': return cgv_tables\n",
    "    else:\n",
    "        result = []\n",
    "        for c in cgv_tables:\n",
    "            if c[0] == moviename:\n",
    "                result.append(c)\n",
    "        return result[0][1]"
   ]
  },
  {
   "cell_type": "markdown",
   "metadata": {},
   "source": [
    "### 2) lottecinema"
   ]
  },
  {
   "cell_type": "code",
   "execution_count": 280,
   "metadata": {},
   "outputs": [],
   "source": [
    "loci_url = 'http://lottecinema.co.kr/LCWS/Ticketing/TicketingData.aspx'\n",
    "parameters =  {\"MethodName\":\"GetPlaySequence\",\n",
    "               \"channelType\":\"HO\",\n",
    "               \"osType\":\"W\",\n",
    "               \"osVersion\":\"Mozilla/5.0 (Windows NT 10.0; Win64; x64) AppleWebKit/537.36 (KHTML, like Gecko) Chrome/80.0.3987.87 Safari/537.36\",\n",
    "               \"playDate\": '2020-08-24', # 날짜\n",
    "               \"cinemaID\":\"1|0001|1012\", # 상영관 id\n",
    "               \"representationMovieCode\":\"\"}\n",
    "\n",
    "response = requests.post(loci_url, data = {\"paramList\": str(parameters).encode()}).json()\n",
    "movies_response = response['PlaySeqs']['Items']"
   ]
  },
  {
   "cell_type": "code",
   "execution_count": 333,
   "metadata": {},
   "outputs": [],
   "source": [
    "def loci_get_movie_no_list(response):\n",
    "    movie_no_list = []\n",
    "    for item in response:\n",
    "        movie_no = item[\"MovieCode\"]\n",
    "        if movie_no not in movie_no_list:\n",
    "            movie_no_list.append(movie_no)\n",
    "    return movie_no_list\n",
    "\n",
    "def loci_get_time_table(movies):\n",
    "    tuples = []\n",
    "    for movie in movies:\n",
    "        time = movie[\"StartTime\"]\n",
    "        seats = '잔여 '+ str(movie[\"BookingSeatCount\"]) +'석'\n",
    "        num = movie['ScreenNameKR']\n",
    "        tuple = (time, seats, num)\n",
    "        tuples.append(tuple)\n",
    "    return tuples\n",
    "\n",
    "def loci_split_movies_by_no(response):\n",
    "    movie_no_list = loci_get_movie_no_list(response)\n",
    "    table = []\n",
    "    for movie_no in movie_no_list:\n",
    "        movies = [item for item in response if item[\"MovieCode\"] == movie_no]\n",
    "        title = movies[0][\"MovieNameKR\"]\n",
    "        timetable = loci_get_time_table(movies)\n",
    "        table.append([title, timetable])\n",
    "    return table"
   ]
  },
  {
   "cell_type": "code",
   "execution_count": 334,
   "metadata": {},
   "outputs": [],
   "source": [
    "loci_tables = loci_split_movies_by_no(movies_response)"
   ]
  },
  {
   "cell_type": "code",
   "execution_count": 335,
   "metadata": {},
   "outputs": [
    {
     "data": {
      "text/plain": [
       "[['다만 악에서 구하소서',\n",
       "  [('17:15', '잔여 92석', '2관'),\n",
       "   ('19:25', '잔여 94석', '2관'),\n",
       "   ('21:50', '잔여 92석', '2관'),\n",
       "   ('15:50', '잔여 35석', '3관'),\n",
       "   ('18:00', '잔여 37석', '3관'),\n",
       "   ('20:10', '잔여 36석', '3관'),\n",
       "   ('16:30', '잔여 50석', '4관'),\n",
       "   ('18:40', '잔여 55석', '4관'),\n",
       "   ('21:00', '잔여 55석', '4관'),\n",
       "   ('22:30', '잔여 93석', '5관')]],\n",
       " ['오케이 마담',\n",
       "  [('15:35', '잔여 60석', '1관'),\n",
       "   ('17:35', '잔여 66석', '1관'),\n",
       "   ('19:35', '잔여 66석', '1관'),\n",
       "   ('21:35', '잔여 64석', '1관'),\n",
       "   ('22:25', '잔여 39석', '3관'),\n",
       "   ('20:30', '잔여 94석', '5관')]],\n",
       " ['강철비2: 정상회담', [('17:45', '잔여 93석', '5관')]]]"
      ]
     },
     "execution_count": 335,
     "metadata": {},
     "output_type": "execute_result"
    }
   ],
   "source": [
    "loci_tables"
   ]
  },
  {
   "cell_type": "code",
   "execution_count": 336,
   "metadata": {},
   "outputs": [],
   "source": [
    "def loci_find_id(city):\n",
    "    for l in loci[0]:\n",
    "        if city == l[0]:\n",
    "            return l[1]\n",
    "    return None"
   ]
  },
  {
   "cell_type": "code",
   "execution_count": 359,
   "metadata": {},
   "outputs": [],
   "source": [
    "def craw_loci(city, date, movie ='All'):\n",
    "    '''\n",
    "    input: '강남', '20200824'\n",
    "    output: timetable of lottecinema\n",
    "    '''\n",
    "    theater = loci_find_id(city)\n",
    "    date = date[:4]+'-'+date[4:6]+'-'+date[6:]\n",
    "    if not theater : return []\n",
    "    loci_url = 'http://lottecinema.co.kr/LCWS/Ticketing/TicketingData.aspx'\n",
    "    parameters =  {\"MethodName\":\"GetPlaySequence\",\n",
    "               \"channelType\":\"HO\",\n",
    "               \"osType\":\"W\",\n",
    "               \"osVersion\":\"Mozilla/5.0 (Windows NT 10.0; Win64; x64) AppleWebKit/537.36 (KHTML, like Gecko) Chrome/80.0.3987.87 Safari/537.36\",\n",
    "               \"playDate\": date, # 날짜\n",
    "               \"cinemaID\": theater, # 상영관 id\n",
    "               \"representationMovieCode\":\"\"}\n",
    "\n",
    "    response = requests.post(loci_url, data = {\"paramList\": str(parameters).encode()}).json()\n",
    "    movies_response = response['PlaySeqs']['Items']\n",
    "    if movie == 'All':\n",
    "        return loci_split_movies_by_no(movies_response)\n",
    "    else:\n",
    "        temps = loci_split_movies_by_no(movies_response)\n",
    "        loci_tables = []\n",
    "        for temp in temps:\n",
    "            if temp[0] == movie:\n",
    "                loci_tables.append(temp)\n",
    "        return loci_tables[0][1]"
   ]
  },
  {
   "cell_type": "markdown",
   "metadata": {},
   "source": [
    "### 3) megabox"
   ]
  },
  {
   "cell_type": "code",
   "execution_count": 266,
   "metadata": {},
   "outputs": [],
   "source": [
    "mega_url = \"https://www.megabox.co.kr/on/oh/ohc/Brch/schedulePage.do\"\n",
    "parameters = {\"masterType\":\"brch\",\n",
    "              \"detailType\":\"area\",\n",
    "              \"brchNo\":\"1372\",\n",
    "              \"firstAt\":\"N\",\n",
    "              \"brchNo1\":\"1372\", # branch number: 강남 \n",
    "              \"crtDe\":\"20200822\",\n",
    "              \"playDe\":now} # 상영 날짜 \n",
    "response = requests.post(mega_url, data = parameters).json()"
   ]
  },
  {
   "cell_type": "code",
   "execution_count": 271,
   "metadata": {},
   "outputs": [],
   "source": [
    "def mega_split_movies_by_no(response):\n",
    "    movie_no_list = mega_get_movie_no_list(response)\n",
    "    table = []\n",
    "    for movie_no in movie_no_list:\n",
    "        movies = [item for item in response if item[\"movieNo\"] == movie_no]\n",
    "        title = movies[0][\"movieNm\"]\n",
    "        timetable = mega_get_time_table(movies)\n",
    "        table.append([title, timetable])\n",
    "    return table\n",
    "\n",
    "        \n",
    "def mega_get_movie_no_list(response):\n",
    "    movie_no_list = []\n",
    "    for item in response:\n",
    "        movie_no = item[\"movieNo\"]\n",
    "        if movie_no not in movie_no_list:\n",
    "            movie_no_list.append(movie_no)\n",
    "    return movie_no_list\n",
    "\n",
    "\n",
    "def mega_get_time_table(movies):\n",
    "    tuples = []\n",
    "    for movie in movies:\n",
    "        time = movie[\"playStartTime\"]\n",
    "        seats = '잔여 '+str(movie[\"restSeatCnt\"])+'석'\n",
    "        num = movie['theabExpoNm']\n",
    "        tuple = (time, seats, num)\n",
    "        tuples.append(tuple)\n",
    "    return tuples"
   ]
  },
  {
   "cell_type": "code",
   "execution_count": 272,
   "metadata": {},
   "outputs": [],
   "source": [
    "movie_response = response['megaMap']['movieFormList']\n",
    "mega_tables = mega_split_movies_by_no(movie_response)"
   ]
  },
  {
   "cell_type": "code",
   "execution_count": 338,
   "metadata": {},
   "outputs": [],
   "source": [
    "def mega_find_id(city):\n",
    "    for m in mega[0]:\n",
    "        if city == m[0]:\n",
    "            return m[1]\n",
    "    return None"
   ]
  },
  {
   "cell_type": "code",
   "execution_count": 358,
   "metadata": {},
   "outputs": [],
   "source": [
    "def craw_mega(city, date, movie='All'):\n",
    "    '''\n",
    "    input: '강남', '2020-08-24'\n",
    "    output: timetable of lottecinema\n",
    "    '''\n",
    "    theater = mega_find_id(city)\n",
    "    if not theater: return []\n",
    "    mega_url = \"https://www.megabox.co.kr/on/oh/ohc/Brch/schedulePage.do\"\n",
    "    parameters = {\"masterType\":\"brch\",\n",
    "              \"detailType\":\"area\",\n",
    "              \"brchNo\":\"1372\",\n",
    "              \"firstAt\":\"N\",\n",
    "              \"brchNo1\":theater, # branch number: 강남 \n",
    "              \"crtDe\":\"20200822\",\n",
    "              \"playDe\":date} # 상영 날짜 \n",
    "    response = requests.post(mega_url, data = parameters).json()\n",
    "    movie_response = response['megaMap']['movieFormList']\n",
    "    if movie == 'All':\n",
    "        return mega_split_movies_by_no(movie_response)\n",
    "    else:\n",
    "        temps = mega_split_movies_by_no(movie_response)\n",
    "        mega_tables = []\n",
    "        for temp in temps:\n",
    "            if temp[0] == movie:\n",
    "                mega_tables.append(temp)\n",
    "        return mega_tables[0][1]"
   ]
  },
  {
   "cell_type": "markdown",
   "metadata": {},
   "source": [
    "## 6. 검색  만들기"
   ]
  },
  {
   "cell_type": "code",
   "execution_count": 364,
   "metadata": {},
   "outputs": [],
   "source": [
    "def check_available_movie(city, date, brand='All', movie='All'):\n",
    "    if brand == 'cgv':\n",
    "        return craw_cgv(city, date, movie)[0]\n",
    "    elif brand == 'lottecinema':\n",
    "        return craw_loci(city, date, movie)[0]\n",
    "    elif brand == 'megabox':\n",
    "        return craw_mega(city, date, movie)[0]\n",
    "    elif brand =='All':\n",
    "        return [['cgv'], [craw_cgv(city, date, movie)], \n",
    "                ['lottecinema'], [craw_loci(city, date, movie)], \n",
    "                ['megabox'], [craw_mega(city, date, movie)]]\n",
    "    else:\n",
    "        return \"Brand name is wrong!\""
   ]
  },
  {
   "cell_type": "code",
   "execution_count": 366,
   "metadata": {
    "collapsed": true,
    "jupyter": {
     "outputs_hidden": true
    }
   },
   "outputs": [
    {
     "name": "stdout",
     "output_type": "stream",
     "text": [
      "Enter the city / date [yyyymmdd]\n"
     ]
    },
    {
     "name": "stdin",
     "output_type": "stream",
     "text": [
      " 건대입구 20200824\n"
     ]
    },
    {
     "name": "stdout",
     "output_type": "stream",
     "text": [
      "Enter the brand: you may not enter\n"
     ]
    },
    {
     "name": "stdin",
     "output_type": "stream",
     "text": [
      " lottecinema\n"
     ]
    },
    {
     "name": "stdout",
     "output_type": "stream",
     "text": [
      "Enter the movie: you may not enter\n"
     ]
    },
    {
     "name": "stdin",
     "output_type": "stream",
     "text": [
      " 다만 악에서 구하소서\n"
     ]
    },
    {
     "name": "stdout",
     "output_type": "stream",
     "text": [
      "\n",
      "Here's the result! \n",
      "16:45\n",
      "잔여 32석\n",
      "샤롯데\n",
      "\n",
      "Do you want to exit? (y/n)\n"
     ]
    },
    {
     "name": "stdin",
     "output_type": "stream",
     "text": [
      " n\n"
     ]
    },
    {
     "name": "stdout",
     "output_type": "stream",
     "text": [
      "Enter the city / date [yyyymmdd]\n"
     ]
    },
    {
     "name": "stdin",
     "output_type": "stream",
     "text": [
      " 강남 20200824\n"
     ]
    },
    {
     "name": "stdout",
     "output_type": "stream",
     "text": [
      "Enter the brand: you may not enter\n"
     ]
    },
    {
     "name": "stdin",
     "output_type": "stream",
     "text": [
      " \n"
     ]
    },
    {
     "name": "stdout",
     "output_type": "stream",
     "text": [
      "Enter the movie: you may not enter\n"
     ]
    },
    {
     "name": "stdin",
     "output_type": "stream",
     "text": [
      " 다만 악에서 구하소서\n"
     ]
    },
    {
     "name": "stdout",
     "output_type": "stream",
     "text": [
      "\n",
      "Here's the result! \n",
      "['cgv']\n",
      "[[('17:55', '잔여좌석85석', '3관 8층'), ('20:10', '잔여좌석87석', '3관 8층'), ('22:25', '잔여좌석92석', '3관 8층'), ('16:35', '잔여좌석78석', '3관 8층'), ('18:50', '잔여좌석86석', '3관 8층'), ('21:05', '잔여좌석84석', '3관 8층'), ('23:20', '잔여좌석90석', '3관 8층'), ('17:15', '잔여좌석86석', '3관 8층'), ('19:30', '잔여좌석75석', '3관 8층'), ('21:45', '잔여좌석84석', '3관 8층')]]\n",
      "['lottecinema']\n",
      "[[]]\n",
      "['megabox']\n",
      "[[('17:55', '잔여 116석', '1관'), ('20:15', '잔여 114석', '1관'), ('22:35', '잔여 115석', '1관'), ('19:00', '잔여 115석', '3관'), ('17:10', '잔여 52석', '4관'), ('19:30', '잔여 52석', '4관'), ('21:50', '잔여 52석', '4관'), ('21:10', '잔여 47석', '5관')]]\n",
      "\n",
      "Do you want to exit? (y/n)\n"
     ]
    },
    {
     "name": "stdin",
     "output_type": "stream",
     "text": [
      " n\n"
     ]
    },
    {
     "name": "stdout",
     "output_type": "stream",
     "text": [
      "Enter the city / date [yyyymmdd]\n"
     ]
    },
    {
     "name": "stdin",
     "output_type": "stream",
     "text": [
      " \n"
     ]
    },
    {
     "ename": "ValueError",
     "evalue": "not enough values to unpack (expected 2, got 0)",
     "output_type": "error",
     "traceback": [
      "\u001b[0;31m---------------------------------------------------------------------------\u001b[0m",
      "\u001b[0;31mValueError\u001b[0m                                Traceback (most recent call last)",
      "\u001b[0;32m<ipython-input-366-c9bfd27e5b18>\u001b[0m in \u001b[0;36m<module>\u001b[0;34m\u001b[0m\n\u001b[1;32m      2\u001b[0m \u001b[0;32mwhile\u001b[0m\u001b[0;34m(\u001b[0m\u001b[0mkey\u001b[0m \u001b[0;34m!=\u001b[0m\u001b[0;34m'y'\u001b[0m\u001b[0;34m)\u001b[0m\u001b[0;34m:\u001b[0m\u001b[0;34m\u001b[0m\u001b[0;34m\u001b[0m\u001b[0m\n\u001b[1;32m      3\u001b[0m     \u001b[0mprint\u001b[0m\u001b[0;34m(\u001b[0m\u001b[0;34m'Enter the city / date [yyyymmdd]'\u001b[0m\u001b[0;34m)\u001b[0m\u001b[0;34m\u001b[0m\u001b[0;34m\u001b[0m\u001b[0m\n\u001b[0;32m----> 4\u001b[0;31m     \u001b[0mcity\u001b[0m\u001b[0;34m,\u001b[0m\u001b[0mdate\u001b[0m \u001b[0;34m=\u001b[0m \u001b[0minput\u001b[0m\u001b[0;34m(\u001b[0m\u001b[0;34m)\u001b[0m\u001b[0;34m.\u001b[0m\u001b[0msplit\u001b[0m\u001b[0;34m(\u001b[0m\u001b[0;34m)\u001b[0m\u001b[0;34m\u001b[0m\u001b[0;34m\u001b[0m\u001b[0m\n\u001b[0m\u001b[1;32m      5\u001b[0m     \u001b[0mprint\u001b[0m\u001b[0;34m(\u001b[0m\u001b[0;34m'Enter the brand: you may not enter'\u001b[0m\u001b[0;34m)\u001b[0m\u001b[0;34m\u001b[0m\u001b[0;34m\u001b[0m\u001b[0m\n\u001b[1;32m      6\u001b[0m     \u001b[0mbrand\u001b[0m \u001b[0;34m=\u001b[0m \u001b[0minput\u001b[0m\u001b[0;34m(\u001b[0m\u001b[0;34m)\u001b[0m\u001b[0;34m\u001b[0m\u001b[0;34m\u001b[0m\u001b[0m\n",
      "\u001b[0;31mValueError\u001b[0m: not enough values to unpack (expected 2, got 0)"
     ]
    }
   ],
   "source": [
    "key = ''\n",
    "while(key !='y'):\n",
    "    print('Enter the city / date [yyyymmdd]')\n",
    "    city,date = input().split()\n",
    "    print('Enter the brand: you may not enter')\n",
    "    brand = input()\n",
    "    print('Enter the movie: you may not enter')\n",
    "    movie = input()\n",
    "    if len(brand)==0 and len(movie)==0: result = check_available_movie(city = city, date = date)\n",
    "    elif len(movie)==0: result = check_available_movie(city = city, date = date, brand = brand)\n",
    "    elif len(brand)==0: result = check_available_movie(city = city, date = date, movie = movie)\n",
    "    else: result = check_available_movie(city = city, date = date, brand = brand, movie = movie)\n",
    "        \n",
    "    print()\n",
    "    print(\"Here's the result! \")\n",
    "    \n",
    "    for re in result:\n",
    "        print(re)\n",
    "    # stop을 입력하면 종료됨\n",
    "    print()\n",
    "    print('Do you want to exit? (y/n)')\n",
    "    key = input()"
   ]
  },
  {
   "cell_type": "raw",
   "metadata": {},
   "source": []
  }
 ],
 "metadata": {
  "kernelspec": {
   "display_name": "Python 3",
   "language": "python",
   "name": "python3"
  },
  "language_info": {
   "codemirror_mode": {
    "name": "ipython",
    "version": 3
   },
   "file_extension": ".py",
   "mimetype": "text/x-python",
   "name": "python",
   "nbconvert_exporter": "python",
   "pygments_lexer": "ipython3",
   "version": "3.7.6"
  }
 },
 "nbformat": 4,
 "nbformat_minor": 4
}
